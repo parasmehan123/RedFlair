{
 "cells": [
  {
   "cell_type": "code",
   "execution_count": 1,
   "metadata": {},
   "outputs": [],
   "source": [
    "import pandas as pd\n",
    "import numpy as np"
   ]
  },
  {
   "cell_type": "code",
   "execution_count": 2,
   "metadata": {},
   "outputs": [],
   "source": [
    "flair_dict={0:'Political',1:'Non-Political',2:'[R]eddiquette',3:'AskIndia',4:'Science/Technology',5:'Policy/Economy',6:'Finance/Business',7:'Sports',8:'Food',9:'Photography',10:'AMA'}"
   ]
  },
  {
   "cell_type": "code",
   "execution_count": 3,
   "metadata": {},
   "outputs": [],
   "source": [
    "fl_list=['ask_india.csv','Photography.csv','policy_eco.csv','Food.csv','Reddiquette.csv','Sports.csv','non-po.csv','science_tech.csv']\n"
   ]
  },
  {
   "cell_type": "code",
   "execution_count": 4,
   "metadata": {},
   "outputs": [
    {
     "name": "stdout",
     "output_type": "stream",
     "text": [
      "101 406\n",
      "125 500\n",
      "61 244\n",
      "125 500\n",
      "86 344\n",
      "125 500\n",
      "125 500\n"
     ]
    }
   ],
   "source": [
    "df=pd.read_csv(fl_list[0])\n",
    "df=df.sample(frac=1)\n",
    "test_len=min(125,int(0.2*len(df)))\n",
    "df1_test=df.iloc[:test_len]\n",
    "df1=df.iloc[test_len:test_len+min(500,len(df))]\n",
    "# len(df1),len(df1_test)\n",
    "for fl in fl_list[1:]:\n",
    "    df=pd.read_csv(fl)\n",
    "    df=df.sample(frac=1)\n",
    "    test_len=min(125,int(0.2*len(df)))\n",
    "    x1=df.iloc[:test_len]\n",
    "    x2=df.iloc[test_len:test_len+min(500,len(df))]\n",
    "    df1_test=df1_test.append(x1)\n",
    "    df1=df1.append(x2)\n",
    "    print(len(x1),len(x2))\n",
    "    \n",
    "\n",
    "    "
   ]
  },
  {
   "cell_type": "code",
   "execution_count": 5,
   "metadata": {},
   "outputs": [
    {
     "data": {
      "text/plain": [
       "3494"
      ]
     },
     "execution_count": 5,
     "metadata": {},
     "output_type": "execute_result"
    }
   ],
   "source": [
    "len(df1)"
   ]
  },
  {
   "cell_type": "code",
   "execution_count": null,
   "metadata": {},
   "outputs": [],
   "source": []
  },
  {
   "cell_type": "code",
   "execution_count": 6,
   "metadata": {},
   "outputs": [
    {
     "data": {
      "text/plain": [
       "(Index(['created_utc', 'subreddit', 'author', 'domain', 'url', 'num_comments',\n",
       "        'score', 'ups', 'downs', 'title', 'selftext', 'saved', 'id',\n",
       "        'from_kind', 'gilded', 'from', 'stickied', 'retrieved_on', 'over_18',\n",
       "        'thumbnail', 'subreddit_id', 'hide_score', 'link_flair_css_class',\n",
       "        'author_flair_css_class', 'archived', 'is_self', 'from_id', 'permalink',\n",
       "        'name', 'author_flair_text', 'quarantine', 'link_flair_text',\n",
       "        'distinguished'],\n",
       "       dtype='object'),\n",
       " Index(['created_utc', 'subreddit', 'author', 'domain', 'url', 'num_comments',\n",
       "        'score', 'ups', 'downs', 'title', 'selftext', 'saved', 'id',\n",
       "        'from_kind', 'gilded', 'from', 'stickied', 'retrieved_on', 'over_18',\n",
       "        'thumbnail', 'subreddit_id', 'hide_score', 'link_flair_css_class',\n",
       "        'author_flair_css_class', 'archived', 'is_self', 'from_id', 'permalink',\n",
       "        'name', 'author_flair_text', 'quarantine', 'link_flair_text',\n",
       "        'distinguished'],\n",
       "       dtype='object'))"
      ]
     },
     "execution_count": 6,
     "metadata": {},
     "output_type": "execute_result"
    }
   ],
   "source": [
    "df1.columns,df1_test.columns"
   ]
  },
  {
   "cell_type": "code",
   "execution_count": 7,
   "metadata": {},
   "outputs": [],
   "source": [
    "df2=df1.drop(['subreddit','author', 'domain','ups', 'downs','saved', 'id',\n",
    "       'from_kind', 'gilded', 'from', 'stickied', 'retrieved_on', 'over_18',\n",
    "       'thumbnail', 'hide_score', 'link_flair_css_class',\n",
    "       'author_flair_css_class', 'archived', 'is_self', 'from_id', 'permalink',\n",
    "       'name', 'author_flair_text', 'quarantine',\n",
    "       'distinguished'],axis=1)\n",
    "df2_test=df1_test.drop(['subreddit','author', 'domain','ups', 'downs','saved', 'id',\n",
    "       'from_kind', 'gilded', 'from', 'stickied', 'retrieved_on', 'over_18',\n",
    "       'thumbnail', 'hide_score', 'link_flair_css_class',\n",
    "       'author_flair_css_class', 'archived', 'is_self', 'from_id', 'permalink',\n",
    "       'name', 'author_flair_text', 'quarantine',\n",
    "       'distinguished'],axis=1)\n"
   ]
  },
  {
   "cell_type": "code",
   "execution_count": 8,
   "metadata": {},
   "outputs": [
    {
     "data": {
      "text/plain": [
       "(Index(['created_utc', 'url', 'num_comments', 'score', 'title', 'selftext',\n",
       "        'subreddit_id', 'link_flair_text'],\n",
       "       dtype='object'),\n",
       " Index(['created_utc', 'url', 'num_comments', 'score', 'title', 'selftext',\n",
       "        'subreddit_id', 'link_flair_text'],\n",
       "       dtype='object'))"
      ]
     },
     "execution_count": 8,
     "metadata": {},
     "output_type": "execute_result"
    }
   ],
   "source": [
    "df2.columns,df2_test.columns"
   ]
  },
  {
   "cell_type": "code",
   "execution_count": 9,
   "metadata": {},
   "outputs": [],
   "source": [
    "df3=pd.read_csv('data.csv')\n"
   ]
  },
  {
   "cell_type": "code",
   "execution_count": 10,
   "metadata": {},
   "outputs": [],
   "source": [
    "df3.drop(['id'],axis=1,inplace=True)"
   ]
  },
  {
   "cell_type": "code",
   "execution_count": 11,
   "metadata": {},
   "outputs": [
    {
     "data": {
      "text/plain": [
       "Index(['title', 'score', 'url', 'comms_num', 'created', 'body', 'flair'], dtype='object')"
      ]
     },
     "execution_count": 11,
     "metadata": {},
     "output_type": "execute_result"
    }
   ],
   "source": [
    "df3.columns"
   ]
  },
  {
   "cell_type": "code",
   "execution_count": 12,
   "metadata": {},
   "outputs": [],
   "source": [
    "df3=df3.rename({'title':'title', 'score': 'score', 'url':'url','comms_num':'num_comments', 'created':'created_utc', 'body':'selftext', 'flair':'link_flair_text'},axis=1)"
   ]
  },
  {
   "cell_type": "code",
   "execution_count": 13,
   "metadata": {},
   "outputs": [
    {
     "data": {
      "text/plain": [
       "Index(['title', 'score', 'url', 'num_comments', 'created_utc', 'selftext',\n",
       "       'link_flair_text'],\n",
       "      dtype='object')"
      ]
     },
     "execution_count": 13,
     "metadata": {},
     "output_type": "execute_result"
    }
   ],
   "source": [
    "df3.columns"
   ]
  },
  {
   "cell_type": "code",
   "execution_count": 14,
   "metadata": {},
   "outputs": [
    {
     "data": {
      "text/plain": [
       "1819"
      ]
     },
     "execution_count": 14,
     "metadata": {},
     "output_type": "execute_result"
    }
   ],
   "source": [
    "len(df3)"
   ]
  },
  {
   "cell_type": "code",
   "execution_count": 15,
   "metadata": {},
   "outputs": [
    {
     "data": {
      "text/plain": [
       "(246, 171, 210)"
      ]
     },
     "execution_count": 15,
     "metadata": {},
     "output_type": "execute_result"
    }
   ],
   "source": [
    "d={0:[],6:[],9:[]}\n",
    "for i in range(len(df3['link_flair_text'])):\n",
    "    if df3['link_flair_text'][i] in [0,6,9]:\n",
    "        d[df3['link_flair_text'][i]].append(i)\n",
    "len(d[0]),len(d[6]),len(d[9])"
   ]
  },
  {
   "cell_type": "code",
   "execution_count": 16,
   "metadata": {},
   "outputs": [],
   "source": [
    "df_list=[df3.iloc[d[0]],df3.iloc[d[6]],df3.iloc[d[9]]]"
   ]
  },
  {
   "cell_type": "code",
   "execution_count": 17,
   "metadata": {},
   "outputs": [
    {
     "name": "stdout",
     "output_type": "stream",
     "text": [
      "197 49\n",
      "137 34\n",
      "168 42\n"
     ]
    }
   ],
   "source": [
    "df3=df_list[0]\n",
    "df3=df3.sample(frac=1)\n",
    "test_len=min(125,int(0.2*len(df3)))\n",
    "df3_test=df3.iloc[:test_len]\n",
    "df3=df3.iloc[test_len:test_len+min(500,len(df3))]\n",
    "print(len(df3),len(df3_test))\n",
    "for df in df_list[1:]:\n",
    "    df=df.sample(frac=1)\n",
    "    test_len=min(125,int(0.2*len(df)))\n",
    "    x1=df.iloc[:test_len]\n",
    "    x2=df.iloc[test_len:test_len+min(500,len(df))]\n",
    "    df3_test=df3_test.append(x1)\n",
    "    df3=df3.append(x2)\n",
    "    print(len(x2),len(x1))"
   ]
  },
  {
   "cell_type": "code",
   "execution_count": 18,
   "metadata": {},
   "outputs": [
    {
     "data": {
      "text/plain": [
       "(3494, 873)"
      ]
     },
     "execution_count": 18,
     "metadata": {},
     "output_type": "execute_result"
    }
   ],
   "source": [
    "len(df2),len(df2_test)"
   ]
  },
  {
   "cell_type": "code",
   "execution_count": 19,
   "metadata": {
    "scrolled": false
   },
   "outputs": [
    {
     "name": "stdout",
     "output_type": "stream",
     "text": [
      "873\n"
     ]
    }
   ],
   "source": [
    "# l1=df2['link_flair_text'].tolist()\n",
    "# l2=[]\n",
    "# for i in range(len(l1)):\n",
    "#     flag=True\n",
    "#     for j in range(11):\n",
    "#         if l1[i]==flair_dict[j]:\n",
    "#             l2.append(j)\n",
    "#             flag=False\n",
    "#             break\n",
    "#     if flag:\n",
    "#         print(l1[i])\n",
    "# print(len(l2))\n",
    "l1_test=df2_test['link_flair_text'].tolist()\n",
    "l2_test=[]\n",
    "for i in range(len(l1_test)):\n",
    "    flag=True\n",
    "    for j in range(11):\n",
    "        if l1_test[i]==flair_dict[j]:\n",
    "            l2_test.append(j)\n",
    "            flag=False\n",
    "            break\n",
    "    if flag:\n",
    "        print(l1_test[i])\n",
    "print(len(l2_test))"
   ]
  },
  {
   "cell_type": "code",
   "execution_count": 20,
   "metadata": {},
   "outputs": [],
   "source": [
    "# df2=df2.assign(link_flair_text=l2)\n",
    "df2_test=df2_test.assign(link_flair_text=l2_test)"
   ]
  },
  {
   "cell_type": "code",
   "execution_count": null,
   "metadata": {},
   "outputs": [],
   "source": []
  },
  {
   "cell_type": "code",
   "execution_count": null,
   "metadata": {},
   "outputs": [],
   "source": []
  },
  {
   "cell_type": "code",
   "execution_count": 21,
   "metadata": {},
   "outputs": [],
   "source": [
    "df4=df2.append(df3,sort=True)\n",
    "df4_test=df2_test.append(df3_test,sort=True)"
   ]
  },
  {
   "cell_type": "code",
   "execution_count": 22,
   "metadata": {},
   "outputs": [
    {
     "data": {
      "text/plain": [
       "(3494, 502, 3996, 873, 125, 998)"
      ]
     },
     "execution_count": 22,
     "metadata": {},
     "output_type": "execute_result"
    }
   ],
   "source": [
    "len(df2),len(df3),len(df4),len(df2_test),len(df3_test),len(df4_test)"
   ]
  },
  {
   "cell_type": "code",
   "execution_count": 23,
   "metadata": {},
   "outputs": [
    {
     "data": {
      "text/html": [
       "<div>\n",
       "<style scoped>\n",
       "    .dataframe tbody tr th:only-of-type {\n",
       "        vertical-align: middle;\n",
       "    }\n",
       "\n",
       "    .dataframe tbody tr th {\n",
       "        vertical-align: top;\n",
       "    }\n",
       "\n",
       "    .dataframe thead th {\n",
       "        text-align: right;\n",
       "    }\n",
       "</style>\n",
       "<table border=\"1\" class=\"dataframe\">\n",
       "  <thead>\n",
       "    <tr style=\"text-align: right;\">\n",
       "      <th></th>\n",
       "      <th>created_utc</th>\n",
       "      <th>num_comments</th>\n",
       "      <th>score</th>\n",
       "    </tr>\n",
       "  </thead>\n",
       "  <tbody>\n",
       "    <tr>\n",
       "      <th>count</th>\n",
       "      <td>3.996000e+03</td>\n",
       "      <td>3996.000000</td>\n",
       "      <td>3996.000000</td>\n",
       "    </tr>\n",
       "    <tr>\n",
       "      <th>mean</th>\n",
       "      <td>1.545882e+09</td>\n",
       "      <td>17.558308</td>\n",
       "      <td>59.449700</td>\n",
       "    </tr>\n",
       "    <tr>\n",
       "      <th>std</th>\n",
       "      <td>2.108196e+07</td>\n",
       "      <td>97.532120</td>\n",
       "      <td>222.364186</td>\n",
       "    </tr>\n",
       "    <tr>\n",
       "      <th>min</th>\n",
       "      <td>1.357505e+09</td>\n",
       "      <td>0.000000</td>\n",
       "      <td>0.000000</td>\n",
       "    </tr>\n",
       "    <tr>\n",
       "      <th>25%</th>\n",
       "      <td>1.547832e+09</td>\n",
       "      <td>0.000000</td>\n",
       "      <td>1.000000</td>\n",
       "    </tr>\n",
       "    <tr>\n",
       "      <th>50%</th>\n",
       "      <td>1.550125e+09</td>\n",
       "      <td>2.000000</td>\n",
       "      <td>5.000000</td>\n",
       "    </tr>\n",
       "    <tr>\n",
       "      <th>75%</th>\n",
       "      <td>1.552445e+09</td>\n",
       "      <td>13.000000</td>\n",
       "      <td>30.000000</td>\n",
       "    </tr>\n",
       "    <tr>\n",
       "      <th>max</th>\n",
       "      <td>1.563181e+09</td>\n",
       "      <td>5458.000000</td>\n",
       "      <td>4343.000000</td>\n",
       "    </tr>\n",
       "  </tbody>\n",
       "</table>\n",
       "</div>"
      ],
      "text/plain": [
       "        created_utc  num_comments        score\n",
       "count  3.996000e+03   3996.000000  3996.000000\n",
       "mean   1.545882e+09     17.558308    59.449700\n",
       "std    2.108196e+07     97.532120   222.364186\n",
       "min    1.357505e+09      0.000000     0.000000\n",
       "25%    1.547832e+09      0.000000     1.000000\n",
       "50%    1.550125e+09      2.000000     5.000000\n",
       "75%    1.552445e+09     13.000000    30.000000\n",
       "max    1.563181e+09   5458.000000  4343.000000"
      ]
     },
     "execution_count": 23,
     "metadata": {},
     "output_type": "execute_result"
    }
   ],
   "source": [
    "df4.describe()"
   ]
  },
  {
   "cell_type": "code",
   "execution_count": 24,
   "metadata": {},
   "outputs": [
    {
     "data": {
      "text/html": [
       "<div>\n",
       "<style scoped>\n",
       "    .dataframe tbody tr th:only-of-type {\n",
       "        vertical-align: middle;\n",
       "    }\n",
       "\n",
       "    .dataframe tbody tr th {\n",
       "        vertical-align: top;\n",
       "    }\n",
       "\n",
       "    .dataframe thead th {\n",
       "        text-align: right;\n",
       "    }\n",
       "</style>\n",
       "<table border=\"1\" class=\"dataframe\">\n",
       "  <thead>\n",
       "    <tr style=\"text-align: right;\">\n",
       "      <th></th>\n",
       "      <th>created_utc</th>\n",
       "      <th>link_flair_text</th>\n",
       "      <th>num_comments</th>\n",
       "      <th>score</th>\n",
       "      <th>selftext</th>\n",
       "      <th>subreddit_id</th>\n",
       "      <th>title</th>\n",
       "      <th>url</th>\n",
       "    </tr>\n",
       "  </thead>\n",
       "  <tbody>\n",
       "    <tr>\n",
       "      <th>1390</th>\n",
       "      <td>1.552898e+09</td>\n",
       "      <td>AskIndia</td>\n",
       "      <td>5</td>\n",
       "      <td>7</td>\n",
       "      <td>A kids horror movie. About two twin sisters 10...</td>\n",
       "      <td>t5_2qh1q</td>\n",
       "      <td>Indian movie came find?</td>\n",
       "      <td>https://www.reddit.com/r/india/comments/b2g5xr...</td>\n",
       "    </tr>\n",
       "    <tr>\n",
       "      <th>1748</th>\n",
       "      <td>1.547121e+09</td>\n",
       "      <td>AskIndia</td>\n",
       "      <td>6</td>\n",
       "      <td>11</td>\n",
       "      <td>Do you think it is actually going to help the ...</td>\n",
       "      <td>t5_2qh1q</td>\n",
       "      <td>What do you all honestly think about the recen...</td>\n",
       "      <td>https://www.reddit.com/r/india/comments/aeie7t...</td>\n",
       "    </tr>\n",
       "    <tr>\n",
       "      <th>4898</th>\n",
       "      <td>1.549630e+09</td>\n",
       "      <td>AskIndia</td>\n",
       "      <td>24</td>\n",
       "      <td>26</td>\n",
       "      <td>[deleted]</td>\n",
       "      <td>t5_2qh1q</td>\n",
       "      <td>Wanna opt out of Jio, what's the best alternat...</td>\n",
       "      <td>https://www.reddit.com/r/india/comments/aog8kr...</td>\n",
       "    </tr>\n",
       "    <tr>\n",
       "      <th>4078</th>\n",
       "      <td>1.551510e+09</td>\n",
       "      <td>AskIndia</td>\n",
       "      <td>83</td>\n",
       "      <td>18</td>\n",
       "      <td>NaN</td>\n",
       "      <td>t5_2qh1q</td>\n",
       "      <td>Girls of r/india, what you like/look for in a ...</td>\n",
       "      <td>https://www.reddit.com/r/india/comments/awf4ee...</td>\n",
       "    </tr>\n",
       "    <tr>\n",
       "      <th>2592</th>\n",
       "      <td>1.550936e+09</td>\n",
       "      <td>AskIndia</td>\n",
       "      <td>28</td>\n",
       "      <td>32</td>\n",
       "      <td>How do you manage to keep yourself energetic a...</td>\n",
       "      <td>t5_2qh1q</td>\n",
       "      <td>For people who work 9h and commute to work</td>\n",
       "      <td>https://www.reddit.com/r/india/comments/atwnl9...</td>\n",
       "    </tr>\n",
       "  </tbody>\n",
       "</table>\n",
       "</div>"
      ],
      "text/plain": [
       "       created_utc link_flair_text  num_comments  score  \\\n",
       "1390  1.552898e+09        AskIndia             5      7   \n",
       "1748  1.547121e+09        AskIndia             6     11   \n",
       "4898  1.549630e+09        AskIndia            24     26   \n",
       "4078  1.551510e+09        AskIndia            83     18   \n",
       "2592  1.550936e+09        AskIndia            28     32   \n",
       "\n",
       "                                               selftext subreddit_id  \\\n",
       "1390  A kids horror movie. About two twin sisters 10...     t5_2qh1q   \n",
       "1748  Do you think it is actually going to help the ...     t5_2qh1q   \n",
       "4898                                          [deleted]     t5_2qh1q   \n",
       "4078                                                NaN     t5_2qh1q   \n",
       "2592  How do you manage to keep yourself energetic a...     t5_2qh1q   \n",
       "\n",
       "                                                  title  \\\n",
       "1390                            Indian movie came find?   \n",
       "1748  What do you all honestly think about the recen...   \n",
       "4898  Wanna opt out of Jio, what's the best alternat...   \n",
       "4078  Girls of r/india, what you like/look for in a ...   \n",
       "2592         For people who work 9h and commute to work   \n",
       "\n",
       "                                                    url  \n",
       "1390  https://www.reddit.com/r/india/comments/b2g5xr...  \n",
       "1748  https://www.reddit.com/r/india/comments/aeie7t...  \n",
       "4898  https://www.reddit.com/r/india/comments/aog8kr...  \n",
       "4078  https://www.reddit.com/r/india/comments/awf4ee...  \n",
       "2592  https://www.reddit.com/r/india/comments/atwnl9...  "
      ]
     },
     "execution_count": 24,
     "metadata": {},
     "output_type": "execute_result"
    }
   ],
   "source": [
    "df4.head()"
   ]
  },
  {
   "cell_type": "code",
   "execution_count": 25,
   "metadata": {},
   "outputs": [],
   "source": [
    "df4.to_csv('data_train.csv',index=False)\n",
    "df4_test.to_csv('data_test.csv',index=False)"
   ]
  },
  {
   "cell_type": "code",
   "execution_count": null,
   "metadata": {},
   "outputs": [],
   "source": []
  },
  {
   "cell_type": "code",
   "execution_count": null,
   "metadata": {},
   "outputs": [],
   "source": []
  },
  {
   "cell_type": "code",
   "execution_count": null,
   "metadata": {},
   "outputs": [],
   "source": []
  },
  {
   "cell_type": "code",
   "execution_count": null,
   "metadata": {},
   "outputs": [],
   "source": []
  }
 ],
 "metadata": {
  "kernelspec": {
   "display_name": "Python 3",
   "language": "python",
   "name": "python3"
  },
  "language_info": {
   "codemirror_mode": {
    "name": "ipython",
    "version": 3
   },
   "file_extension": ".py",
   "mimetype": "text/x-python",
   "name": "python",
   "nbconvert_exporter": "python",
   "pygments_lexer": "ipython3",
   "version": "3.7.3"
  }
 },
 "nbformat": 4,
 "nbformat_minor": 2
}
