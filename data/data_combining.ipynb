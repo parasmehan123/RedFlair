{
 "cells": [
  {
   "cell_type": "code",
   "execution_count": 1,
   "metadata": {},
   "outputs": [],
   "source": [
    "import pandas as pd\n",
    "import numpy as np"
   ]
  },
  {
   "cell_type": "code",
   "execution_count": 2,
   "metadata": {},
   "outputs": [],
   "source": [
    "flair_dict={0:'Political',1:'Non-Political',2:'[R]eddiquette',3:'AskIndia',4:'Science/Technology',5:'Policy/Economy',6:'Finance/Business',7:'Sports',8:'Food',9:'Photography',10:'AMA'}"
   ]
  },
  {
   "cell_type": "code",
   "execution_count": 3,
   "metadata": {},
   "outputs": [],
   "source": [
    "fl_list=['ask_india.csv','Photography.csv','policy_eco.csv','Food.csv','Reddiquette.csv','Sports.csv','non-po.csv','science_tech.csv']\n"
   ]
  },
  {
   "cell_type": "code",
   "execution_count": 4,
   "metadata": {},
   "outputs": [
    {
     "name": "stdout",
     "output_type": "stream",
     "text": [
      "101 406\n",
      "125 500\n",
      "61 244\n",
      "125 500\n",
      "86 344\n",
      "125 500\n",
      "125 500\n"
     ]
    }
   ],
   "source": [
    "df=pd.read_csv(fl_list[0])\n",
    "df=df.sample(frac=1)\n",
    "test_len=min(125,int(0.2*len(df)))\n",
    "df1_test=df.iloc[:test_len]\n",
    "df1=df.iloc[test_len:test_len+min(500,len(df))]\n",
    "# len(df1),len(df1_test)\n",
    "for fl in fl_list[1:]:\n",
    "    df=pd.read_csv(fl)\n",
    "    df=df.sample(frac=1)\n",
    "    test_len=min(125,int(0.2*len(df)))\n",
    "    x1=df.iloc[:test_len]\n",
    "    x2=df.iloc[test_len:test_len+min(500,len(df))]\n",
    "    df1_test=df1_test.append(x1)\n",
    "    df1=df1.append(x2)\n",
    "    print(len(x1),len(x2))\n",
    "    \n",
    "\n",
    "    "
   ]
  },
  {
   "cell_type": "code",
   "execution_count": 5,
   "metadata": {},
   "outputs": [
    {
     "data": {
      "text/plain": [
       "(3494, 873)"
      ]
     },
     "execution_count": 5,
     "metadata": {},
     "output_type": "execute_result"
    }
   ],
   "source": [
    "len(df1),len(df1_test)"
   ]
  },
  {
   "cell_type": "code",
   "execution_count": null,
   "metadata": {},
   "outputs": [],
   "source": []
  },
  {
   "cell_type": "code",
   "execution_count": 6,
   "metadata": {},
   "outputs": [
    {
     "data": {
      "text/plain": [
       "(Index(['created_utc', 'subreddit', 'author', 'domain', 'url', 'num_comments',\n",
       "        'score', 'ups', 'downs', 'title', 'selftext', 'saved', 'id',\n",
       "        'from_kind', 'gilded', 'from', 'stickied', 'retrieved_on', 'over_18',\n",
       "        'thumbnail', 'subreddit_id', 'hide_score', 'link_flair_css_class',\n",
       "        'author_flair_css_class', 'archived', 'is_self', 'from_id', 'permalink',\n",
       "        'name', 'author_flair_text', 'quarantine', 'link_flair_text',\n",
       "        'distinguished'],\n",
       "       dtype='object'),\n",
       " Index(['created_utc', 'subreddit', 'author', 'domain', 'url', 'num_comments',\n",
       "        'score', 'ups', 'downs', 'title', 'selftext', 'saved', 'id',\n",
       "        'from_kind', 'gilded', 'from', 'stickied', 'retrieved_on', 'over_18',\n",
       "        'thumbnail', 'subreddit_id', 'hide_score', 'link_flair_css_class',\n",
       "        'author_flair_css_class', 'archived', 'is_self', 'from_id', 'permalink',\n",
       "        'name', 'author_flair_text', 'quarantine', 'link_flair_text',\n",
       "        'distinguished'],\n",
       "       dtype='object'))"
      ]
     },
     "execution_count": 6,
     "metadata": {},
     "output_type": "execute_result"
    }
   ],
   "source": [
    "df1.columns,df1_test.columns"
   ]
  },
  {
   "cell_type": "code",
   "execution_count": 7,
   "metadata": {},
   "outputs": [],
   "source": [
    "df2=df1.drop(['subreddit','author', 'domain','ups', 'downs','saved', 'id',\n",
    "       'from_kind', 'gilded', 'from', 'stickied', 'retrieved_on', 'over_18',\n",
    "       'thumbnail', 'hide_score', 'link_flair_css_class',\n",
    "       'author_flair_css_class', 'archived', 'is_self', 'from_id', 'permalink',\n",
    "       'name', 'author_flair_text', 'quarantine',\n",
    "       'distinguished'],axis=1)\n",
    "df2_test=df1_test.drop(['subreddit','author', 'domain','ups', 'downs','saved', 'id',\n",
    "       'from_kind', 'gilded', 'from', 'stickied', 'retrieved_on', 'over_18',\n",
    "       'thumbnail', 'hide_score', 'link_flair_css_class',\n",
    "       'author_flair_css_class', 'archived', 'is_self', 'from_id', 'permalink',\n",
    "       'name', 'author_flair_text', 'quarantine',\n",
    "       'distinguished'],axis=1)\n"
   ]
  },
  {
   "cell_type": "code",
   "execution_count": 8,
   "metadata": {},
   "outputs": [
    {
     "data": {
      "text/plain": [
       "(Index(['created_utc', 'url', 'num_comments', 'score', 'title', 'selftext',\n",
       "        'subreddit_id', 'link_flair_text'],\n",
       "       dtype='object'),\n",
       " Index(['created_utc', 'url', 'num_comments', 'score', 'title', 'selftext',\n",
       "        'subreddit_id', 'link_flair_text'],\n",
       "       dtype='object'))"
      ]
     },
     "execution_count": 8,
     "metadata": {},
     "output_type": "execute_result"
    }
   ],
   "source": [
    "df2.columns,df2_test.columns"
   ]
  },
  {
   "cell_type": "code",
   "execution_count": 9,
   "metadata": {},
   "outputs": [],
   "source": [
    "df3=pd.read_csv('data.csv')\n"
   ]
  },
  {
   "cell_type": "code",
   "execution_count": 10,
   "metadata": {},
   "outputs": [],
   "source": [
    "df3.drop(['id'],axis=1,inplace=True)"
   ]
  },
  {
   "cell_type": "code",
   "execution_count": 11,
   "metadata": {},
   "outputs": [
    {
     "data": {
      "text/plain": [
       "Index(['title', 'score', 'url', 'comms_num', 'created', 'body', 'flair'], dtype='object')"
      ]
     },
     "execution_count": 11,
     "metadata": {},
     "output_type": "execute_result"
    }
   ],
   "source": [
    "df3.columns"
   ]
  },
  {
   "cell_type": "code",
   "execution_count": 12,
   "metadata": {},
   "outputs": [],
   "source": [
    "df3=df3.rename({'title':'title', 'score': 'score', 'url':'url','comms_num':'num_comments', 'created':'created_utc', 'body':'selftext', 'flair':'link_flair_text'},axis=1)"
   ]
  },
  {
   "cell_type": "code",
   "execution_count": 13,
   "metadata": {},
   "outputs": [
    {
     "data": {
      "text/plain": [
       "Index(['title', 'score', 'url', 'num_comments', 'created_utc', 'selftext',\n",
       "       'link_flair_text'],\n",
       "      dtype='object')"
      ]
     },
     "execution_count": 13,
     "metadata": {},
     "output_type": "execute_result"
    }
   ],
   "source": [
    "df3.columns"
   ]
  },
  {
   "cell_type": "code",
   "execution_count": 14,
   "metadata": {},
   "outputs": [
    {
     "data": {
      "text/plain": [
       "1819"
      ]
     },
     "execution_count": 14,
     "metadata": {},
     "output_type": "execute_result"
    }
   ],
   "source": [
    "len(df3)"
   ]
  },
  {
   "cell_type": "code",
   "execution_count": 15,
   "metadata": {},
   "outputs": [
    {
     "data": {
      "text/plain": [
       "(246, 171, 210)"
      ]
     },
     "execution_count": 15,
     "metadata": {},
     "output_type": "execute_result"
    }
   ],
   "source": [
    "d={0:[],6:[],9:[]}\n",
    "for i in range(len(df3['link_flair_text'])):\n",
    "    if df3['link_flair_text'][i] in [0,6,9]:\n",
    "        d[df3['link_flair_text'][i]].append(i)\n",
    "len(d[0]),len(d[6]),len(d[9])"
   ]
  },
  {
   "cell_type": "code",
   "execution_count": 16,
   "metadata": {},
   "outputs": [],
   "source": [
    "df_list=[df3.iloc[d[0]],df3.iloc[d[6]],df3.iloc[d[9]]]"
   ]
  },
  {
   "cell_type": "code",
   "execution_count": 17,
   "metadata": {},
   "outputs": [],
   "source": [
    "df_list[2]=df_list[2].assign(link_flair_text=[10 for _ in range(len(df_list[2]))])"
   ]
  },
  {
   "cell_type": "code",
   "execution_count": 18,
   "metadata": {},
   "outputs": [
    {
     "name": "stdout",
     "output_type": "stream",
     "text": [
      "197 49\n",
      "137 34\n",
      "168 42\n"
     ]
    }
   ],
   "source": [
    "df3=df_list[0]\n",
    "df3=df3.sample(frac=1)\n",
    "test_len=min(125,int(0.2*len(df3)))\n",
    "df3_test=df3.iloc[:test_len]\n",
    "df3=df3.iloc[test_len:test_len+min(500,len(df3))]\n",
    "print(len(df3),len(df3_test))\n",
    "for df in df_list[1:]:\n",
    "    df=df.sample(frac=1)\n",
    "    test_len=min(125,int(0.2*len(df)))\n",
    "    x1=df.iloc[:test_len]\n",
    "    x2=df.iloc[test_len:test_len+min(500,len(df))]\n",
    "    df3_test=df3_test.append(x1)\n",
    "    df3=df3.append(x2)\n",
    "    print(len(x2),len(x1))"
   ]
  },
  {
   "cell_type": "code",
   "execution_count": 19,
   "metadata": {},
   "outputs": [
    {
     "data": {
      "text/plain": [
       "(3494, 873)"
      ]
     },
     "execution_count": 19,
     "metadata": {},
     "output_type": "execute_result"
    }
   ],
   "source": [
    "len(df2),len(df2_test)\n",
    "# df3"
   ]
  },
  {
   "cell_type": "code",
   "execution_count": 20,
   "metadata": {
    "scrolled": false
   },
   "outputs": [
    {
     "name": "stdout",
     "output_type": "stream",
     "text": [
      "3494\n",
      "873\n"
     ]
    }
   ],
   "source": [
    "l1=df2['link_flair_text'].tolist()\n",
    "l2=[]\n",
    "for i in range(len(l1)):\n",
    "    flag=True\n",
    "    for j in range(11):\n",
    "        if l1[i]==flair_dict[j]:\n",
    "            l2.append(j)\n",
    "            flag=False\n",
    "            break\n",
    "    if flag:\n",
    "        print(l1[i])\n",
    "print(len(l2))\n",
    "l1_test=df2_test['link_flair_text'].tolist()\n",
    "l2_test=[]\n",
    "for i in range(len(l1_test)):\n",
    "    flag=True\n",
    "    for j in range(11):\n",
    "        if l1_test[i]==flair_dict[j]:\n",
    "            l2_test.append(j)\n",
    "            flag=False\n",
    "            break\n",
    "    if flag:\n",
    "        print(l1_test[i])\n",
    "print(len(l2_test))"
   ]
  },
  {
   "cell_type": "code",
   "execution_count": 21,
   "metadata": {},
   "outputs": [],
   "source": [
    "df2=df2.assign(link_flair_text=l2)\n",
    "df2_test=df2_test.assign(link_flair_text=l2_test)"
   ]
  },
  {
   "cell_type": "code",
   "execution_count": null,
   "metadata": {},
   "outputs": [],
   "source": []
  },
  {
   "cell_type": "code",
   "execution_count": null,
   "metadata": {},
   "outputs": [],
   "source": []
  },
  {
   "cell_type": "code",
   "execution_count": 22,
   "metadata": {},
   "outputs": [],
   "source": [
    "df4=df2.append(df3,sort=True)\n",
    "df4_test=df2_test.append(df3_test,sort=True)"
   ]
  },
  {
   "cell_type": "code",
   "execution_count": 23,
   "metadata": {},
   "outputs": [
    {
     "data": {
      "text/plain": [
       "(3494, 502, 3996, 873, 125, 998)"
      ]
     },
     "execution_count": 23,
     "metadata": {},
     "output_type": "execute_result"
    }
   ],
   "source": [
    "len(df2),len(df3),len(df4),len(df2_test),len(df3_test),len(df4_test)"
   ]
  },
  {
   "cell_type": "code",
   "execution_count": 24,
   "metadata": {},
   "outputs": [
    {
     "data": {
      "text/html": [
       "<div>\n",
       "<style scoped>\n",
       "    .dataframe tbody tr th:only-of-type {\n",
       "        vertical-align: middle;\n",
       "    }\n",
       "\n",
       "    .dataframe tbody tr th {\n",
       "        vertical-align: top;\n",
       "    }\n",
       "\n",
       "    .dataframe thead th {\n",
       "        text-align: right;\n",
       "    }\n",
       "</style>\n",
       "<table border=\"1\" class=\"dataframe\">\n",
       "  <thead>\n",
       "    <tr style=\"text-align: right;\">\n",
       "      <th></th>\n",
       "      <th>created_utc</th>\n",
       "      <th>link_flair_text</th>\n",
       "      <th>num_comments</th>\n",
       "      <th>score</th>\n",
       "    </tr>\n",
       "  </thead>\n",
       "  <tbody>\n",
       "    <tr>\n",
       "      <th>count</th>\n",
       "      <td>3.996000e+03</td>\n",
       "      <td>3996.000000</td>\n",
       "      <td>3996.000000</td>\n",
       "      <td>3996.000000</td>\n",
       "    </tr>\n",
       "    <tr>\n",
       "      <th>mean</th>\n",
       "      <td>1.545689e+09</td>\n",
       "      <td>4.508509</td>\n",
       "      <td>20.339339</td>\n",
       "      <td>62.209209</td>\n",
       "    </tr>\n",
       "    <tr>\n",
       "      <th>std</th>\n",
       "      <td>2.154347e+07</td>\n",
       "      <td>2.889916</td>\n",
       "      <td>150.973974</td>\n",
       "      <td>285.959308</td>\n",
       "    </tr>\n",
       "    <tr>\n",
       "      <th>min</th>\n",
       "      <td>1.357505e+09</td>\n",
       "      <td>0.000000</td>\n",
       "      <td>0.000000</td>\n",
       "      <td>0.000000</td>\n",
       "    </tr>\n",
       "    <tr>\n",
       "      <th>25%</th>\n",
       "      <td>1.547803e+09</td>\n",
       "      <td>2.000000</td>\n",
       "      <td>0.000000</td>\n",
       "      <td>1.000000</td>\n",
       "    </tr>\n",
       "    <tr>\n",
       "      <th>50%</th>\n",
       "      <td>1.550142e+09</td>\n",
       "      <td>4.000000</td>\n",
       "      <td>1.000000</td>\n",
       "      <td>5.000000</td>\n",
       "    </tr>\n",
       "    <tr>\n",
       "      <th>75%</th>\n",
       "      <td>1.552332e+09</td>\n",
       "      <td>7.000000</td>\n",
       "      <td>12.000000</td>\n",
       "      <td>30.000000</td>\n",
       "    </tr>\n",
       "    <tr>\n",
       "      <th>max</th>\n",
       "      <td>1.563181e+09</td>\n",
       "      <td>10.000000</td>\n",
       "      <td>7113.000000</td>\n",
       "      <td>10158.000000</td>\n",
       "    </tr>\n",
       "  </tbody>\n",
       "</table>\n",
       "</div>"
      ],
      "text/plain": [
       "        created_utc  link_flair_text  num_comments         score\n",
       "count  3.996000e+03      3996.000000   3996.000000   3996.000000\n",
       "mean   1.545689e+09         4.508509     20.339339     62.209209\n",
       "std    2.154347e+07         2.889916    150.973974    285.959308\n",
       "min    1.357505e+09         0.000000      0.000000      0.000000\n",
       "25%    1.547803e+09         2.000000      0.000000      1.000000\n",
       "50%    1.550142e+09         4.000000      1.000000      5.000000\n",
       "75%    1.552332e+09         7.000000     12.000000     30.000000\n",
       "max    1.563181e+09        10.000000   7113.000000  10158.000000"
      ]
     },
     "execution_count": 24,
     "metadata": {},
     "output_type": "execute_result"
    }
   ],
   "source": [
    "df4.describe()"
   ]
  },
  {
   "cell_type": "code",
   "execution_count": 25,
   "metadata": {},
   "outputs": [
    {
     "data": {
      "text/html": [
       "<div>\n",
       "<style scoped>\n",
       "    .dataframe tbody tr th:only-of-type {\n",
       "        vertical-align: middle;\n",
       "    }\n",
       "\n",
       "    .dataframe tbody tr th {\n",
       "        vertical-align: top;\n",
       "    }\n",
       "\n",
       "    .dataframe thead th {\n",
       "        text-align: right;\n",
       "    }\n",
       "</style>\n",
       "<table border=\"1\" class=\"dataframe\">\n",
       "  <thead>\n",
       "    <tr style=\"text-align: right;\">\n",
       "      <th></th>\n",
       "      <th>created_utc</th>\n",
       "      <th>link_flair_text</th>\n",
       "      <th>num_comments</th>\n",
       "      <th>score</th>\n",
       "      <th>selftext</th>\n",
       "      <th>subreddit_id</th>\n",
       "      <th>title</th>\n",
       "      <th>url</th>\n",
       "    </tr>\n",
       "  </thead>\n",
       "  <tbody>\n",
       "    <tr>\n",
       "      <th>2020</th>\n",
       "      <td>1.549555e+09</td>\n",
       "      <td>3</td>\n",
       "      <td>13</td>\n",
       "      <td>14</td>\n",
       "      <td>So many scammers and beggers are ruining my tr...</td>\n",
       "      <td>t5_2qh1q</td>\n",
       "      <td>Why are there so many scammers in Delhi?</td>\n",
       "      <td>https://www.reddit.com/r/india/comments/ao52x6...</td>\n",
       "    </tr>\n",
       "    <tr>\n",
       "      <th>4416</th>\n",
       "      <td>1.550414e+09</td>\n",
       "      <td>3</td>\n",
       "      <td>15</td>\n",
       "      <td>1</td>\n",
       "      <td>[deleted]</td>\n",
       "      <td>t5_2qh1q</td>\n",
       "      <td>Anyone ever feel guilty for not joining army, ...</td>\n",
       "      <td>https://www.reddit.com/r/india/comments/arkzxx...</td>\n",
       "    </tr>\n",
       "    <tr>\n",
       "      <th>1204</th>\n",
       "      <td>1.552500e+09</td>\n",
       "      <td>3</td>\n",
       "      <td>8</td>\n",
       "      <td>6</td>\n",
       "      <td>Not very knowledgeable in this area, hence wan...</td>\n",
       "      <td>t5_2qh1q</td>\n",
       "      <td>Motorcycle helmet brands, Do any of them offer...</td>\n",
       "      <td>https://www.reddit.com/r/india/comments/b0p5ew...</td>\n",
       "    </tr>\n",
       "    <tr>\n",
       "      <th>4746</th>\n",
       "      <td>1.548475e+09</td>\n",
       "      <td>3</td>\n",
       "      <td>20</td>\n",
       "      <td>8</td>\n",
       "      <td>[deleted]</td>\n",
       "      <td>t5_2qh1q</td>\n",
       "      <td>Randians, how are you navigating the dating wo...</td>\n",
       "      <td>https://www.reddit.com/r/india/comments/ajxhgx...</td>\n",
       "    </tr>\n",
       "    <tr>\n",
       "      <th>2623</th>\n",
       "      <td>1.549576e+09</td>\n",
       "      <td>3</td>\n",
       "      <td>66</td>\n",
       "      <td>34</td>\n",
       "      <td>Do your schools teach this or do people just n...</td>\n",
       "      <td>t5_2qh1q</td>\n",
       "      <td>Why are you guys so fluent in English?</td>\n",
       "      <td>https://www.reddit.com/r/india/comments/ao913e...</td>\n",
       "    </tr>\n",
       "  </tbody>\n",
       "</table>\n",
       "</div>"
      ],
      "text/plain": [
       "       created_utc  link_flair_text  num_comments  score  \\\n",
       "2020  1.549555e+09                3            13     14   \n",
       "4416  1.550414e+09                3            15      1   \n",
       "1204  1.552500e+09                3             8      6   \n",
       "4746  1.548475e+09                3            20      8   \n",
       "2623  1.549576e+09                3            66     34   \n",
       "\n",
       "                                               selftext subreddit_id  \\\n",
       "2020  So many scammers and beggers are ruining my tr...     t5_2qh1q   \n",
       "4416                                          [deleted]     t5_2qh1q   \n",
       "1204  Not very knowledgeable in this area, hence wan...     t5_2qh1q   \n",
       "4746                                          [deleted]     t5_2qh1q   \n",
       "2623  Do your schools teach this or do people just n...     t5_2qh1q   \n",
       "\n",
       "                                                  title  \\\n",
       "2020           Why are there so many scammers in Delhi?   \n",
       "4416  Anyone ever feel guilty for not joining army, ...   \n",
       "1204  Motorcycle helmet brands, Do any of them offer...   \n",
       "4746  Randians, how are you navigating the dating wo...   \n",
       "2623             Why are you guys so fluent in English?   \n",
       "\n",
       "                                                    url  \n",
       "2020  https://www.reddit.com/r/india/comments/ao52x6...  \n",
       "4416  https://www.reddit.com/r/india/comments/arkzxx...  \n",
       "1204  https://www.reddit.com/r/india/comments/b0p5ew...  \n",
       "4746  https://www.reddit.com/r/india/comments/ajxhgx...  \n",
       "2623  https://www.reddit.com/r/india/comments/ao913e...  "
      ]
     },
     "execution_count": 25,
     "metadata": {},
     "output_type": "execute_result"
    }
   ],
   "source": [
    "df4.head()"
   ]
  },
  {
   "cell_type": "code",
   "execution_count": 26,
   "metadata": {},
   "outputs": [],
   "source": [
    "df4.to_csv('data_train.csv',index=False)\n",
    "df4_test.to_csv('data_test.csv',index=False)"
   ]
  },
  {
   "cell_type": "code",
   "execution_count": 27,
   "metadata": {},
   "outputs": [
    {
     "data": {
      "text/html": [
       "<div>\n",
       "<style scoped>\n",
       "    .dataframe tbody tr th:only-of-type {\n",
       "        vertical-align: middle;\n",
       "    }\n",
       "\n",
       "    .dataframe tbody tr th {\n",
       "        vertical-align: top;\n",
       "    }\n",
       "\n",
       "    .dataframe thead th {\n",
       "        text-align: right;\n",
       "    }\n",
       "</style>\n",
       "<table border=\"1\" class=\"dataframe\">\n",
       "  <thead>\n",
       "    <tr style=\"text-align: right;\">\n",
       "      <th></th>\n",
       "      <th>created_utc</th>\n",
       "      <th>link_flair_text</th>\n",
       "      <th>num_comments</th>\n",
       "      <th>score</th>\n",
       "      <th>selftext</th>\n",
       "      <th>subreddit_id</th>\n",
       "      <th>title</th>\n",
       "      <th>url</th>\n",
       "    </tr>\n",
       "  </thead>\n",
       "  <tbody>\n",
       "    <tr>\n",
       "      <th>5396</th>\n",
       "      <td>1.550343e+09</td>\n",
       "      <td>3</td>\n",
       "      <td>14</td>\n",
       "      <td>42</td>\n",
       "      <td>[removed]</td>\n",
       "      <td>t5_2qh1q</td>\n",
       "      <td>My younger sister shristi(16) is suffering frm...</td>\n",
       "      <td>https://www.reddit.com/r/india/comments/arbon5...</td>\n",
       "    </tr>\n",
       "    <tr>\n",
       "      <th>3329</th>\n",
       "      <td>1.549412e+09</td>\n",
       "      <td>3</td>\n",
       "      <td>0</td>\n",
       "      <td>1</td>\n",
       "      <td>NaN</td>\n",
       "      <td>t5_2qh1q</td>\n",
       "      <td>Abroad WhatsApp Group Join Link List</td>\n",
       "      <td>https://www.whatsappgroupjoinlinklist.com/2019...</td>\n",
       "    </tr>\n",
       "    <tr>\n",
       "      <th>3238</th>\n",
       "      <td>1.549285e+09</td>\n",
       "      <td>3</td>\n",
       "      <td>0</td>\n",
       "      <td>1</td>\n",
       "      <td>NaN</td>\n",
       "      <td>t5_2qh1q</td>\n",
       "      <td>Analysing Control Charts Video</td>\n",
       "      <td>https://www.youtube.com/watch?v=9dl8PZoSfcc&amp;am...</td>\n",
       "    </tr>\n",
       "    <tr>\n",
       "      <th>2310</th>\n",
       "      <td>1.553529e+09</td>\n",
       "      <td>3</td>\n",
       "      <td>2</td>\n",
       "      <td>19</td>\n",
       "      <td>I had to leave my current job due to several f...</td>\n",
       "      <td>t5_2qh1q</td>\n",
       "      <td>HR people of reddit, before offering a job to ...</td>\n",
       "      <td>https://www.reddit.com/r/india/comments/b5cf25...</td>\n",
       "    </tr>\n",
       "    <tr>\n",
       "      <th>1031</th>\n",
       "      <td>1.550071e+09</td>\n",
       "      <td>3</td>\n",
       "      <td>4</td>\n",
       "      <td>5</td>\n",
       "      <td>I have given MP Tet  physics (Teacher s recrui...</td>\n",
       "      <td>t5_2qh1q</td>\n",
       "      <td>Any one from Madhya Pradesh</td>\n",
       "      <td>https://www.reddit.com/r/india/comments/aq7kdh...</td>\n",
       "    </tr>\n",
       "  </tbody>\n",
       "</table>\n",
       "</div>"
      ],
      "text/plain": [
       "       created_utc  link_flair_text  num_comments  score  \\\n",
       "5396  1.550343e+09                3            14     42   \n",
       "3329  1.549412e+09                3             0      1   \n",
       "3238  1.549285e+09                3             0      1   \n",
       "2310  1.553529e+09                3             2     19   \n",
       "1031  1.550071e+09                3             4      5   \n",
       "\n",
       "                                               selftext subreddit_id  \\\n",
       "5396                                          [removed]     t5_2qh1q   \n",
       "3329                                                NaN     t5_2qh1q   \n",
       "3238                                                NaN     t5_2qh1q   \n",
       "2310  I had to leave my current job due to several f...     t5_2qh1q   \n",
       "1031  I have given MP Tet  physics (Teacher s recrui...     t5_2qh1q   \n",
       "\n",
       "                                                  title  \\\n",
       "5396  My younger sister shristi(16) is suffering frm...   \n",
       "3329               Abroad WhatsApp Group Join Link List   \n",
       "3238                     Analysing Control Charts Video   \n",
       "2310  HR people of reddit, before offering a job to ...   \n",
       "1031                        Any one from Madhya Pradesh   \n",
       "\n",
       "                                                    url  \n",
       "5396  https://www.reddit.com/r/india/comments/arbon5...  \n",
       "3329  https://www.whatsappgroupjoinlinklist.com/2019...  \n",
       "3238  https://www.youtube.com/watch?v=9dl8PZoSfcc&am...  \n",
       "2310  https://www.reddit.com/r/india/comments/b5cf25...  \n",
       "1031  https://www.reddit.com/r/india/comments/aq7kdh...  "
      ]
     },
     "execution_count": 27,
     "metadata": {},
     "output_type": "execute_result"
    }
   ],
   "source": [
    "df4_test.head()"
   ]
  },
  {
   "cell_type": "code",
   "execution_count": 28,
   "metadata": {},
   "outputs": [
    {
     "data": {
      "text/html": [
       "<div>\n",
       "<style scoped>\n",
       "    .dataframe tbody tr th:only-of-type {\n",
       "        vertical-align: middle;\n",
       "    }\n",
       "\n",
       "    .dataframe tbody tr th {\n",
       "        vertical-align: top;\n",
       "    }\n",
       "\n",
       "    .dataframe thead th {\n",
       "        text-align: right;\n",
       "    }\n",
       "</style>\n",
       "<table border=\"1\" class=\"dataframe\">\n",
       "  <thead>\n",
       "    <tr style=\"text-align: right;\">\n",
       "      <th></th>\n",
       "      <th>created_utc</th>\n",
       "      <th>link_flair_text</th>\n",
       "      <th>num_comments</th>\n",
       "      <th>score</th>\n",
       "      <th>selftext</th>\n",
       "      <th>subreddit_id</th>\n",
       "      <th>title</th>\n",
       "      <th>url</th>\n",
       "    </tr>\n",
       "  </thead>\n",
       "  <tbody>\n",
       "    <tr>\n",
       "      <th>2020</th>\n",
       "      <td>1.549555e+09</td>\n",
       "      <td>3</td>\n",
       "      <td>13</td>\n",
       "      <td>14</td>\n",
       "      <td>So many scammers and beggers are ruining my tr...</td>\n",
       "      <td>t5_2qh1q</td>\n",
       "      <td>Why are there so many scammers in Delhi?</td>\n",
       "      <td>https://www.reddit.com/r/india/comments/ao52x6...</td>\n",
       "    </tr>\n",
       "    <tr>\n",
       "      <th>4416</th>\n",
       "      <td>1.550414e+09</td>\n",
       "      <td>3</td>\n",
       "      <td>15</td>\n",
       "      <td>1</td>\n",
       "      <td>[deleted]</td>\n",
       "      <td>t5_2qh1q</td>\n",
       "      <td>Anyone ever feel guilty for not joining army, ...</td>\n",
       "      <td>https://www.reddit.com/r/india/comments/arkzxx...</td>\n",
       "    </tr>\n",
       "    <tr>\n",
       "      <th>1204</th>\n",
       "      <td>1.552500e+09</td>\n",
       "      <td>3</td>\n",
       "      <td>8</td>\n",
       "      <td>6</td>\n",
       "      <td>Not very knowledgeable in this area, hence wan...</td>\n",
       "      <td>t5_2qh1q</td>\n",
       "      <td>Motorcycle helmet brands, Do any of them offer...</td>\n",
       "      <td>https://www.reddit.com/r/india/comments/b0p5ew...</td>\n",
       "    </tr>\n",
       "    <tr>\n",
       "      <th>4746</th>\n",
       "      <td>1.548475e+09</td>\n",
       "      <td>3</td>\n",
       "      <td>20</td>\n",
       "      <td>8</td>\n",
       "      <td>[deleted]</td>\n",
       "      <td>t5_2qh1q</td>\n",
       "      <td>Randians, how are you navigating the dating wo...</td>\n",
       "      <td>https://www.reddit.com/r/india/comments/ajxhgx...</td>\n",
       "    </tr>\n",
       "    <tr>\n",
       "      <th>2623</th>\n",
       "      <td>1.549576e+09</td>\n",
       "      <td>3</td>\n",
       "      <td>66</td>\n",
       "      <td>34</td>\n",
       "      <td>Do your schools teach this or do people just n...</td>\n",
       "      <td>t5_2qh1q</td>\n",
       "      <td>Why are you guys so fluent in English?</td>\n",
       "      <td>https://www.reddit.com/r/india/comments/ao913e...</td>\n",
       "    </tr>\n",
       "  </tbody>\n",
       "</table>\n",
       "</div>"
      ],
      "text/plain": [
       "       created_utc  link_flair_text  num_comments  score  \\\n",
       "2020  1.549555e+09                3            13     14   \n",
       "4416  1.550414e+09                3            15      1   \n",
       "1204  1.552500e+09                3             8      6   \n",
       "4746  1.548475e+09                3            20      8   \n",
       "2623  1.549576e+09                3            66     34   \n",
       "\n",
       "                                               selftext subreddit_id  \\\n",
       "2020  So many scammers and beggers are ruining my tr...     t5_2qh1q   \n",
       "4416                                          [deleted]     t5_2qh1q   \n",
       "1204  Not very knowledgeable in this area, hence wan...     t5_2qh1q   \n",
       "4746                                          [deleted]     t5_2qh1q   \n",
       "2623  Do your schools teach this or do people just n...     t5_2qh1q   \n",
       "\n",
       "                                                  title  \\\n",
       "2020           Why are there so many scammers in Delhi?   \n",
       "4416  Anyone ever feel guilty for not joining army, ...   \n",
       "1204  Motorcycle helmet brands, Do any of them offer...   \n",
       "4746  Randians, how are you navigating the dating wo...   \n",
       "2623             Why are you guys so fluent in English?   \n",
       "\n",
       "                                                    url  \n",
       "2020  https://www.reddit.com/r/india/comments/ao52x6...  \n",
       "4416  https://www.reddit.com/r/india/comments/arkzxx...  \n",
       "1204  https://www.reddit.com/r/india/comments/b0p5ew...  \n",
       "4746  https://www.reddit.com/r/india/comments/ajxhgx...  \n",
       "2623  https://www.reddit.com/r/india/comments/ao913e...  "
      ]
     },
     "execution_count": 28,
     "metadata": {},
     "output_type": "execute_result"
    }
   ],
   "source": [
    "df4.head()"
   ]
  },
  {
   "cell_type": "code",
   "execution_count": null,
   "metadata": {},
   "outputs": [],
   "source": []
  },
  {
   "cell_type": "code",
   "execution_count": null,
   "metadata": {},
   "outputs": [],
   "source": []
  }
 ],
 "metadata": {
  "kernelspec": {
   "display_name": "Python 3",
   "language": "python",
   "name": "python3"
  },
  "language_info": {
   "codemirror_mode": {
    "name": "ipython",
    "version": 3
   },
   "file_extension": ".py",
   "mimetype": "text/x-python",
   "name": "python",
   "nbconvert_exporter": "python",
   "pygments_lexer": "ipython3",
   "version": "3.7.3"
  }
 },
 "nbformat": 4,
 "nbformat_minor": 2
}
