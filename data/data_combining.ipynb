{
 "cells": [
  {
   "cell_type": "code",
   "execution_count": 1,
   "metadata": {},
   "outputs": [],
   "source": [
    "import pandas as pd\n",
    "import numpy as np"
   ]
  },
  {
   "cell_type": "code",
   "execution_count": 2,
   "metadata": {},
   "outputs": [],
   "source": [
    "flair_dict={0:'Political',1:'Non-Political',2:'[R]eddiquette',3:'AskIndia',4:'Science/Technology',5:'Policy/Economy',6:'Finance/Business',7:'Sports',8:'Food',9:'Photography',10:'AMA'}"
   ]
  },
  {
   "cell_type": "code",
   "execution_count": 3,
   "metadata": {},
   "outputs": [],
   "source": [
    "fl_list=['ask_india.csv','Photography.csv','policy_eco.csv','Food.csv','Reddiquette.csv','Sports.csv','non-po.csv','science_tech.csv']\n"
   ]
  },
  {
   "cell_type": "code",
   "execution_count": 4,
   "metadata": {},
   "outputs": [],
   "source": [
    "df1=pd.read_csv(fl_list[0])\n",
    "for i in fl_list:\n",
    "    df1=df1.append(pd.read_csv(i))\n"
   ]
  },
  {
   "cell_type": "code",
   "execution_count": 5,
   "metadata": {},
   "outputs": [
    {
     "data": {
      "text/plain": [
       "21616"
      ]
     },
     "execution_count": 5,
     "metadata": {},
     "output_type": "execute_result"
    }
   ],
   "source": [
    "len(df1)"
   ]
  },
  {
   "cell_type": "code",
   "execution_count": 6,
   "metadata": {},
   "outputs": [],
   "source": [
    "df1.to_csv('data_combined.csv',index=False)"
   ]
  },
  {
   "cell_type": "code",
   "execution_count": 7,
   "metadata": {},
   "outputs": [
    {
     "data": {
      "text/plain": [
       "Index(['created_utc', 'subreddit', 'author', 'domain', 'url', 'num_comments',\n",
       "       'score', 'ups', 'downs', 'title', 'selftext', 'saved', 'id',\n",
       "       'from_kind', 'gilded', 'from', 'stickied', 'retrieved_on', 'over_18',\n",
       "       'thumbnail', 'subreddit_id', 'hide_score', 'link_flair_css_class',\n",
       "       'author_flair_css_class', 'archived', 'is_self', 'from_id', 'permalink',\n",
       "       'name', 'author_flair_text', 'quarantine', 'link_flair_text',\n",
       "       'distinguished'],\n",
       "      dtype='object')"
      ]
     },
     "execution_count": 7,
     "metadata": {},
     "output_type": "execute_result"
    }
   ],
   "source": [
    "df1.columns"
   ]
  },
  {
   "cell_type": "code",
   "execution_count": 8,
   "metadata": {},
   "outputs": [],
   "source": [
    "df2=df1.drop(['subreddit','author', 'domain','ups', 'downs','saved', 'id',\n",
    "       'from_kind', 'gilded', 'from', 'stickied', 'retrieved_on', 'over_18',\n",
    "       'thumbnail', 'hide_score', 'link_flair_css_class',\n",
    "       'author_flair_css_class', 'archived', 'is_self', 'from_id', 'permalink',\n",
    "       'name', 'author_flair_text', 'quarantine',\n",
    "       'distinguished'],axis=1)"
   ]
  },
  {
   "cell_type": "code",
   "execution_count": 9,
   "metadata": {},
   "outputs": [
    {
     "data": {
      "text/plain": [
       "Index(['created_utc', 'url', 'num_comments', 'score', 'title', 'selftext',\n",
       "       'subreddit_id', 'link_flair_text'],\n",
       "      dtype='object')"
      ]
     },
     "execution_count": 9,
     "metadata": {},
     "output_type": "execute_result"
    }
   ],
   "source": [
    "df2.columns"
   ]
  },
  {
   "cell_type": "code",
   "execution_count": 10,
   "metadata": {},
   "outputs": [],
   "source": [
    "df3=pd.read_csv('data.csv')\n"
   ]
  },
  {
   "cell_type": "code",
   "execution_count": 11,
   "metadata": {},
   "outputs": [],
   "source": [
    "df3.drop(['id'],axis=1,inplace=True)"
   ]
  },
  {
   "cell_type": "code",
   "execution_count": 12,
   "metadata": {},
   "outputs": [
    {
     "data": {
      "text/plain": [
       "Index(['title', 'score', 'url', 'comms_num', 'created', 'body', 'flair'], dtype='object')"
      ]
     },
     "execution_count": 12,
     "metadata": {},
     "output_type": "execute_result"
    }
   ],
   "source": [
    "df3.columns"
   ]
  },
  {
   "cell_type": "code",
   "execution_count": 13,
   "metadata": {},
   "outputs": [],
   "source": [
    "df3=df3.rename({'title':'title', 'score': 'score', 'url':'url','comms_num':'num_comments', 'created':'created_utc', 'body':'selftext', 'flair':'link_flair_text'},axis=1)"
   ]
  },
  {
   "cell_type": "code",
   "execution_count": 14,
   "metadata": {},
   "outputs": [
    {
     "data": {
      "text/plain": [
       "Index(['title', 'score', 'url', 'num_comments', 'created_utc', 'selftext',\n",
       "       'link_flair_text'],\n",
       "      dtype='object')"
      ]
     },
     "execution_count": 14,
     "metadata": {},
     "output_type": "execute_result"
    }
   ],
   "source": [
    "df3.columns"
   ]
  },
  {
   "cell_type": "code",
   "execution_count": 15,
   "metadata": {},
   "outputs": [
    {
     "data": {
      "text/plain": [
       "21616"
      ]
     },
     "execution_count": 15,
     "metadata": {},
     "output_type": "execute_result"
    }
   ],
   "source": [
    "len(df2)"
   ]
  },
  {
   "cell_type": "code",
   "execution_count": 16,
   "metadata": {},
   "outputs": [
    {
     "name": "stderr",
     "output_type": "stream",
     "text": [
      "/home/parasmehan123/.conda/envs/reddit/lib/python3.7/site-packages/ipykernel_launcher.py:6: SettingWithCopyWarning: \n",
      "A value is trying to be set on a copy of a slice from a DataFrame\n",
      "\n",
      "See the caveats in the documentation: http://pandas.pydata.org/pandas-docs/stable/indexing.html#indexing-view-versus-copy\n",
      "  \n"
     ]
    }
   ],
   "source": [
    "l1=[]\n",
    "for i in range(len(df3['link_flair_text'])):\n",
    "    if df3['link_flair_text'][i] not in [0,6,9]:\n",
    "        l1.append(i)\n",
    "    elif df3['link_flair_text'][i]==9:\n",
    "        df3['link_flair_text'][i]=10"
   ]
  },
  {
   "cell_type": "code",
   "execution_count": 17,
   "metadata": {},
   "outputs": [],
   "source": [
    "df3.drop(l1,inplace=True)"
   ]
  },
  {
   "cell_type": "code",
   "execution_count": 18,
   "metadata": {},
   "outputs": [
    {
     "data": {
      "text/html": [
       "<div>\n",
       "<style scoped>\n",
       "    .dataframe tbody tr th:only-of-type {\n",
       "        vertical-align: middle;\n",
       "    }\n",
       "\n",
       "    .dataframe tbody tr th {\n",
       "        vertical-align: top;\n",
       "    }\n",
       "\n",
       "    .dataframe thead th {\n",
       "        text-align: right;\n",
       "    }\n",
       "</style>\n",
       "<table border=\"1\" class=\"dataframe\">\n",
       "  <thead>\n",
       "    <tr style=\"text-align: right;\">\n",
       "      <th></th>\n",
       "      <th>score</th>\n",
       "      <th>num_comments</th>\n",
       "      <th>created_utc</th>\n",
       "      <th>link_flair_text</th>\n",
       "    </tr>\n",
       "  </thead>\n",
       "  <tbody>\n",
       "    <tr>\n",
       "      <th>count</th>\n",
       "      <td>627.000000</td>\n",
       "      <td>627.000000</td>\n",
       "      <td>6.270000e+02</td>\n",
       "      <td>627.000000</td>\n",
       "    </tr>\n",
       "    <tr>\n",
       "      <th>mean</th>\n",
       "      <td>152.926635</td>\n",
       "      <td>61.751196</td>\n",
       "      <td>1.515656e+09</td>\n",
       "      <td>4.985646</td>\n",
       "    </tr>\n",
       "    <tr>\n",
       "      <th>std</th>\n",
       "      <td>314.434526</td>\n",
       "      <td>96.876714</td>\n",
       "      <td>5.000174e+07</td>\n",
       "      <td>4.299281</td>\n",
       "    </tr>\n",
       "    <tr>\n",
       "      <th>min</th>\n",
       "      <td>0.000000</td>\n",
       "      <td>0.000000</td>\n",
       "      <td>1.357505e+09</td>\n",
       "      <td>0.000000</td>\n",
       "    </tr>\n",
       "    <tr>\n",
       "      <th>25%</th>\n",
       "      <td>17.000000</td>\n",
       "      <td>9.000000</td>\n",
       "      <td>1.480941e+09</td>\n",
       "      <td>0.000000</td>\n",
       "    </tr>\n",
       "    <tr>\n",
       "      <th>50%</th>\n",
       "      <td>71.000000</td>\n",
       "      <td>29.000000</td>\n",
       "      <td>1.541955e+09</td>\n",
       "      <td>6.000000</td>\n",
       "    </tr>\n",
       "    <tr>\n",
       "      <th>75%</th>\n",
       "      <td>170.500000</td>\n",
       "      <td>73.500000</td>\n",
       "      <td>1.557058e+09</td>\n",
       "      <td>10.000000</td>\n",
       "    </tr>\n",
       "    <tr>\n",
       "      <th>max</th>\n",
       "      <td>4343.000000</td>\n",
       "      <td>951.000000</td>\n",
       "      <td>1.563181e+09</td>\n",
       "      <td>10.000000</td>\n",
       "    </tr>\n",
       "  </tbody>\n",
       "</table>\n",
       "</div>"
      ],
      "text/plain": [
       "             score  num_comments   created_utc  link_flair_text\n",
       "count   627.000000    627.000000  6.270000e+02       627.000000\n",
       "mean    152.926635     61.751196  1.515656e+09         4.985646\n",
       "std     314.434526     96.876714  5.000174e+07         4.299281\n",
       "min       0.000000      0.000000  1.357505e+09         0.000000\n",
       "25%      17.000000      9.000000  1.480941e+09         0.000000\n",
       "50%      71.000000     29.000000  1.541955e+09         6.000000\n",
       "75%     170.500000     73.500000  1.557058e+09        10.000000\n",
       "max    4343.000000    951.000000  1.563181e+09        10.000000"
      ]
     },
     "execution_count": 18,
     "metadata": {},
     "output_type": "execute_result"
    }
   ],
   "source": [
    "df3.describe()"
   ]
  },
  {
   "cell_type": "code",
   "execution_count": 19,
   "metadata": {
    "scrolled": false
   },
   "outputs": [],
   "source": [
    "l1=df2['link_flair_text'].tolist()\n",
    "l2=[]\n",
    "for i in range(len(l1)):\n",
    "    flag=True\n",
    "    for j in range(11):\n",
    "        if l1[i]==flair_dict[j]:\n",
    "            l2.append(j)\n",
    "            flag=False\n",
    "            break\n",
    "    if flag:\n",
    "        print(l1[i])"
   ]
  },
  {
   "cell_type": "code",
   "execution_count": 20,
   "metadata": {},
   "outputs": [],
   "source": [
    "df2=df2.assign(link_flair_text=l2)"
   ]
  },
  {
   "cell_type": "code",
   "execution_count": 21,
   "metadata": {},
   "outputs": [],
   "source": [
    "df4=df2.append(df3,sort=True)"
   ]
  },
  {
   "cell_type": "code",
   "execution_count": 22,
   "metadata": {},
   "outputs": [
    {
     "data": {
      "text/plain": [
       "(21616, 627, 22243)"
      ]
     },
     "execution_count": 22,
     "metadata": {},
     "output_type": "execute_result"
    }
   ],
   "source": [
    "len(df2),len(df3),len(df4)"
   ]
  },
  {
   "cell_type": "code",
   "execution_count": 23,
   "metadata": {},
   "outputs": [
    {
     "data": {
      "text/html": [
       "<div>\n",
       "<style scoped>\n",
       "    .dataframe tbody tr th:only-of-type {\n",
       "        vertical-align: middle;\n",
       "    }\n",
       "\n",
       "    .dataframe tbody tr th {\n",
       "        vertical-align: top;\n",
       "    }\n",
       "\n",
       "    .dataframe thead th {\n",
       "        text-align: right;\n",
       "    }\n",
       "</style>\n",
       "<table border=\"1\" class=\"dataframe\">\n",
       "  <thead>\n",
       "    <tr style=\"text-align: right;\">\n",
       "      <th></th>\n",
       "      <th>created_utc</th>\n",
       "      <th>link_flair_text</th>\n",
       "      <th>num_comments</th>\n",
       "      <th>score</th>\n",
       "    </tr>\n",
       "  </thead>\n",
       "  <tbody>\n",
       "    <tr>\n",
       "      <th>count</th>\n",
       "      <td>2.224300e+04</td>\n",
       "      <td>22243.000000</td>\n",
       "      <td>22243.000000</td>\n",
       "      <td>22243.000000</td>\n",
       "    </tr>\n",
       "    <tr>\n",
       "      <th>mean</th>\n",
       "      <td>1.549244e+09</td>\n",
       "      <td>2.904824</td>\n",
       "      <td>13.765454</td>\n",
       "      <td>37.166075</td>\n",
       "    </tr>\n",
       "    <tr>\n",
       "      <th>std</th>\n",
       "      <td>1.039187e+07</td>\n",
       "      <td>1.871075</td>\n",
       "      <td>72.139649</td>\n",
       "      <td>188.099998</td>\n",
       "    </tr>\n",
       "    <tr>\n",
       "      <th>min</th>\n",
       "      <td>1.357505e+09</td>\n",
       "      <td>0.000000</td>\n",
       "      <td>0.000000</td>\n",
       "      <td>0.000000</td>\n",
       "    </tr>\n",
       "    <tr>\n",
       "      <th>25%</th>\n",
       "      <td>1.548217e+09</td>\n",
       "      <td>1.000000</td>\n",
       "      <td>0.000000</td>\n",
       "      <td>1.000000</td>\n",
       "    </tr>\n",
       "    <tr>\n",
       "      <th>50%</th>\n",
       "      <td>1.550250e+09</td>\n",
       "      <td>3.000000</td>\n",
       "      <td>2.000000</td>\n",
       "      <td>4.000000</td>\n",
       "    </tr>\n",
       "    <tr>\n",
       "      <th>75%</th>\n",
       "      <td>1.552218e+09</td>\n",
       "      <td>3.000000</td>\n",
       "      <td>12.000000</td>\n",
       "      <td>17.000000</td>\n",
       "    </tr>\n",
       "    <tr>\n",
       "      <th>max</th>\n",
       "      <td>1.563181e+09</td>\n",
       "      <td>10.000000</td>\n",
       "      <td>7113.000000</td>\n",
       "      <td>10158.000000</td>\n",
       "    </tr>\n",
       "  </tbody>\n",
       "</table>\n",
       "</div>"
      ],
      "text/plain": [
       "        created_utc  link_flair_text  num_comments         score\n",
       "count  2.224300e+04     22243.000000  22243.000000  22243.000000\n",
       "mean   1.549244e+09         2.904824     13.765454     37.166075\n",
       "std    1.039187e+07         1.871075     72.139649    188.099998\n",
       "min    1.357505e+09         0.000000      0.000000      0.000000\n",
       "25%    1.548217e+09         1.000000      0.000000      1.000000\n",
       "50%    1.550250e+09         3.000000      2.000000      4.000000\n",
       "75%    1.552218e+09         3.000000     12.000000     17.000000\n",
       "max    1.563181e+09        10.000000   7113.000000  10158.000000"
      ]
     },
     "execution_count": 23,
     "metadata": {},
     "output_type": "execute_result"
    }
   ],
   "source": [
    "df4.describe()"
   ]
  },
  {
   "cell_type": "code",
   "execution_count": 24,
   "metadata": {},
   "outputs": [
    {
     "data": {
      "text/html": [
       "<div>\n",
       "<style scoped>\n",
       "    .dataframe tbody tr th:only-of-type {\n",
       "        vertical-align: middle;\n",
       "    }\n",
       "\n",
       "    .dataframe tbody tr th {\n",
       "        vertical-align: top;\n",
       "    }\n",
       "\n",
       "    .dataframe thead th {\n",
       "        text-align: right;\n",
       "    }\n",
       "</style>\n",
       "<table border=\"1\" class=\"dataframe\">\n",
       "  <thead>\n",
       "    <tr style=\"text-align: right;\">\n",
       "      <th></th>\n",
       "      <th>created_utc</th>\n",
       "      <th>link_flair_text</th>\n",
       "      <th>num_comments</th>\n",
       "      <th>score</th>\n",
       "      <th>selftext</th>\n",
       "      <th>subreddit_id</th>\n",
       "      <th>title</th>\n",
       "      <th>url</th>\n",
       "    </tr>\n",
       "  </thead>\n",
       "  <tbody>\n",
       "    <tr>\n",
       "      <th>0</th>\n",
       "      <td>1.548577e+09</td>\n",
       "      <td>3</td>\n",
       "      <td>4</td>\n",
       "      <td>0</td>\n",
       "      <td>Hello,\\n\\n&amp;amp;#x200B;\\n\\nI'll be flying into ...</td>\n",
       "      <td>t5_2qh1q</td>\n",
       "      <td>Question regarding customs when arriving in India</td>\n",
       "      <td>https://www.reddit.com/r/india/comments/akaal5...</td>\n",
       "    </tr>\n",
       "    <tr>\n",
       "      <th>1</th>\n",
       "      <td>1.548603e+09</td>\n",
       "      <td>3</td>\n",
       "      <td>1</td>\n",
       "      <td>0</td>\n",
       "      <td>Hi, I am looking to invest a part of my monthl...</td>\n",
       "      <td>t5_2qh1q</td>\n",
       "      <td>Need Advice about Flexi RD</td>\n",
       "      <td>https://www.reddit.com/r/india/comments/akcwld...</td>\n",
       "    </tr>\n",
       "    <tr>\n",
       "      <th>2</th>\n",
       "      <td>1.547265e+09</td>\n",
       "      <td>3</td>\n",
       "      <td>15</td>\n",
       "      <td>0</td>\n",
       "      <td>After Aquaman's success, I saw Indians on Twit...</td>\n",
       "      <td>t5_2qh1q</td>\n",
       "      <td>Why do a disproportionate amount Indians have ...</td>\n",
       "      <td>https://www.reddit.com/r/india/comments/af3mlj...</td>\n",
       "    </tr>\n",
       "    <tr>\n",
       "      <th>3</th>\n",
       "      <td>1.547329e+09</td>\n",
       "      <td>3</td>\n",
       "      <td>0</td>\n",
       "      <td>0</td>\n",
       "      <td>Any stories?</td>\n",
       "      <td>t5_2qh1q</td>\n",
       "      <td>How much do you listen to your parents’ advice...</td>\n",
       "      <td>https://www.reddit.com/r/india/comments/afbzhn...</td>\n",
       "    </tr>\n",
       "    <tr>\n",
       "      <th>4</th>\n",
       "      <td>1.546750e+09</td>\n",
       "      <td>3</td>\n",
       "      <td>4</td>\n",
       "      <td>0</td>\n",
       "      <td>Many friends and relatives of mine who have wo...</td>\n",
       "      <td>t5_2qh1q</td>\n",
       "      <td>A question regarding on-site opportunities (or...</td>\n",
       "      <td>https://www.reddit.com/r/india/comments/ad2gkb...</td>\n",
       "    </tr>\n",
       "  </tbody>\n",
       "</table>\n",
       "</div>"
      ],
      "text/plain": [
       "    created_utc  link_flair_text  num_comments  score  \\\n",
       "0  1.548577e+09                3             4      0   \n",
       "1  1.548603e+09                3             1      0   \n",
       "2  1.547265e+09                3            15      0   \n",
       "3  1.547329e+09                3             0      0   \n",
       "4  1.546750e+09                3             4      0   \n",
       "\n",
       "                                            selftext subreddit_id  \\\n",
       "0  Hello,\\n\\n&amp;#x200B;\\n\\nI'll be flying into ...     t5_2qh1q   \n",
       "1  Hi, I am looking to invest a part of my monthl...     t5_2qh1q   \n",
       "2  After Aquaman's success, I saw Indians on Twit...     t5_2qh1q   \n",
       "3                                       Any stories?     t5_2qh1q   \n",
       "4  Many friends and relatives of mine who have wo...     t5_2qh1q   \n",
       "\n",
       "                                               title  \\\n",
       "0  Question regarding customs when arriving in India   \n",
       "1                         Need Advice about Flexi RD   \n",
       "2  Why do a disproportionate amount Indians have ...   \n",
       "3  How much do you listen to your parents’ advice...   \n",
       "4  A question regarding on-site opportunities (or...   \n",
       "\n",
       "                                                 url  \n",
       "0  https://www.reddit.com/r/india/comments/akaal5...  \n",
       "1  https://www.reddit.com/r/india/comments/akcwld...  \n",
       "2  https://www.reddit.com/r/india/comments/af3mlj...  \n",
       "3  https://www.reddit.com/r/india/comments/afbzhn...  \n",
       "4  https://www.reddit.com/r/india/comments/ad2gkb...  "
      ]
     },
     "execution_count": 24,
     "metadata": {},
     "output_type": "execute_result"
    }
   ],
   "source": [
    "df4.head()"
   ]
  },
  {
   "cell_type": "code",
   "execution_count": 25,
   "metadata": {},
   "outputs": [],
   "source": [
    "df4.to_csv('data2.csv',index=False)"
   ]
  },
  {
   "cell_type": "code",
   "execution_count": null,
   "metadata": {},
   "outputs": [],
   "source": []
  }
 ],
 "metadata": {
  "kernelspec": {
   "display_name": "Python 3",
   "language": "python",
   "name": "python3"
  },
  "language_info": {
   "codemirror_mode": {
    "name": "ipython",
    "version": 3
   },
   "file_extension": ".py",
   "mimetype": "text/x-python",
   "name": "python",
   "nbconvert_exporter": "python",
   "pygments_lexer": "ipython3",
   "version": "3.7.3"
  }
 },
 "nbformat": 4,
 "nbformat_minor": 2
}
