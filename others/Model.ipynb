{
 "cells": [
  {
   "cell_type": "code",
   "execution_count": 1,
   "metadata": {
    "colab": {
     "base_uri": "https://localhost:8080/",
     "height": 34
    },
    "colab_type": "code",
    "id": "XTYFHeFM0UmK",
    "outputId": "ef5453b8-12f6-4fba-97f3-f6ab41a7de9d"
   },
   "outputs": [
    {
     "name": "stdout",
     "output_type": "stream",
     "text": [
      "Hello World\n"
     ]
    }
   ],
   "source": [
    "print(\"Hello World\")"
   ]
  },
  {
   "cell_type": "code",
   "execution_count": 15,
   "metadata": {
    "colab": {
     "base_uri": "https://localhost:8080/",
     "height": 176
    },
    "colab_type": "code",
    "id": "aKDsitov90sg",
    "outputId": "0fe8dbc1-9695-4d59-85cc-e95193bc9dc9"
   },
   "outputs": [
    {
     "name": "stderr",
     "output_type": "stream",
     "text": [
      "[nltk_data] Downloading package punkt to\n",
      "[nltk_data]     /home/parasmehan123/nltk_data...\n",
      "[nltk_data]   Package punkt is already up-to-date!\n",
      "[nltk_data] Downloading package stopwords to\n",
      "[nltk_data]     /home/parasmehan123/nltk_data...\n",
      "[nltk_data]   Package stopwords is already up-to-date!\n",
      "[nltk_data] Downloading package wordnet to\n",
      "[nltk_data]     /home/parasmehan123/nltk_data...\n",
      "[nltk_data]   Package wordnet is already up-to-date!\n"
     ]
    }
   ],
   "source": [
    "import pandas as pd\n",
    "import numpy as np\n",
    "import re\n",
    "from nltk.tokenize import word_tokenize\n",
    "import nltk\n",
    "nltk.download('punkt')\n",
    "from nltk.corpus import stopwords \n",
    "nltk.download('stopwords')\n",
    "import string\n",
    "string.punctuation\n",
    "from nltk.stem import WordNetLemmatizer\n",
    "nltk.download('wordnet')\n",
    "from copy import deepcopy as dp\n",
    "from sklearn.feature_extraction.text import TfidfVectorizer\n",
    "from nltk.corpus import stopwords  \n",
    "from sklearn.ensemble import RandomForestClassifier\n",
    "from sklearn.svm import SVC\n",
    "from sklearn.metrics import accuracy_score\n",
    "from sklearn.tree import DecisionTreeClassifier\n",
    "from sklearn.neighbors import KNeighborsClassifier\n",
    "from sklearn.linear_model import LogisticRegression\n",
    "from sklearn.externals import joblib\n",
    "import xgboost as xgb\n",
    "from sklearn.model_selection import GridSearchCV\n",
    "import gensim\n",
    "from gensim.models import Word2Vec\n",
    "from copy import deepcopy\n",
    "import multiprocessing\n",
    "from time import time\n",
    "import pickle"
   ]
  },
  {
   "cell_type": "code",
   "execution_count": 3,
   "metadata": {
    "colab": {},
    "colab_type": "code",
    "id": "K4jxlmLv90sz"
   },
   "outputs": [],
   "source": [
    "df1=pd.read_csv('data2.csv')"
   ]
  },
  {
   "cell_type": "code",
   "execution_count": 4,
   "metadata": {
    "colab": {
     "base_uri": "https://localhost:8080/",
     "height": 397
    },
    "colab_type": "code",
    "id": "EX780fQx90s6",
    "outputId": "6b30cf85-fb9e-48c6-8a98-7d1cb2faac1f"
   },
   "outputs": [
    {
     "data": {
      "text/html": [
       "<div>\n",
       "<style scoped>\n",
       "    .dataframe tbody tr th:only-of-type {\n",
       "        vertical-align: middle;\n",
       "    }\n",
       "\n",
       "    .dataframe tbody tr th {\n",
       "        vertical-align: top;\n",
       "    }\n",
       "\n",
       "    .dataframe thead th {\n",
       "        text-align: right;\n",
       "    }\n",
       "</style>\n",
       "<table border=\"1\" class=\"dataframe\">\n",
       "  <thead>\n",
       "    <tr style=\"text-align: right;\">\n",
       "      <th></th>\n",
       "      <th>created_utc</th>\n",
       "      <th>link_flair_text</th>\n",
       "      <th>num_comments</th>\n",
       "      <th>score</th>\n",
       "      <th>selftext</th>\n",
       "      <th>subreddit_id</th>\n",
       "      <th>title</th>\n",
       "      <th>url</th>\n",
       "    </tr>\n",
       "  </thead>\n",
       "  <tbody>\n",
       "    <tr>\n",
       "      <th>0</th>\n",
       "      <td>1.548577e+09</td>\n",
       "      <td>3</td>\n",
       "      <td>4</td>\n",
       "      <td>0</td>\n",
       "      <td>Hello,\\n\\n&amp;amp;#x200B;\\n\\nI'll be flying into ...</td>\n",
       "      <td>t5_2qh1q</td>\n",
       "      <td>Question regarding customs when arriving in India</td>\n",
       "      <td>https://www.reddit.com/r/india/comments/akaal5...</td>\n",
       "    </tr>\n",
       "    <tr>\n",
       "      <th>1</th>\n",
       "      <td>1.548603e+09</td>\n",
       "      <td>3</td>\n",
       "      <td>1</td>\n",
       "      <td>0</td>\n",
       "      <td>Hi, I am looking to invest a part of my monthl...</td>\n",
       "      <td>t5_2qh1q</td>\n",
       "      <td>Need Advice about Flexi RD</td>\n",
       "      <td>https://www.reddit.com/r/india/comments/akcwld...</td>\n",
       "    </tr>\n",
       "    <tr>\n",
       "      <th>2</th>\n",
       "      <td>1.547265e+09</td>\n",
       "      <td>3</td>\n",
       "      <td>15</td>\n",
       "      <td>0</td>\n",
       "      <td>After Aquaman's success, I saw Indians on Twit...</td>\n",
       "      <td>t5_2qh1q</td>\n",
       "      <td>Why do a disproportionate amount Indians have ...</td>\n",
       "      <td>https://www.reddit.com/r/india/comments/af3mlj...</td>\n",
       "    </tr>\n",
       "    <tr>\n",
       "      <th>3</th>\n",
       "      <td>1.547329e+09</td>\n",
       "      <td>3</td>\n",
       "      <td>0</td>\n",
       "      <td>0</td>\n",
       "      <td>Any stories?</td>\n",
       "      <td>t5_2qh1q</td>\n",
       "      <td>How much do you listen to your parents’ advice...</td>\n",
       "      <td>https://www.reddit.com/r/india/comments/afbzhn...</td>\n",
       "    </tr>\n",
       "    <tr>\n",
       "      <th>4</th>\n",
       "      <td>1.546750e+09</td>\n",
       "      <td>3</td>\n",
       "      <td>4</td>\n",
       "      <td>0</td>\n",
       "      <td>Many friends and relatives of mine who have wo...</td>\n",
       "      <td>t5_2qh1q</td>\n",
       "      <td>A question regarding on-site opportunities (or...</td>\n",
       "      <td>https://www.reddit.com/r/india/comments/ad2gkb...</td>\n",
       "    </tr>\n",
       "  </tbody>\n",
       "</table>\n",
       "</div>"
      ],
      "text/plain": [
       "    created_utc  link_flair_text  num_comments  score  \\\n",
       "0  1.548577e+09                3             4      0   \n",
       "1  1.548603e+09                3             1      0   \n",
       "2  1.547265e+09                3            15      0   \n",
       "3  1.547329e+09                3             0      0   \n",
       "4  1.546750e+09                3             4      0   \n",
       "\n",
       "                                            selftext subreddit_id  \\\n",
       "0  Hello,\\n\\n&amp;#x200B;\\n\\nI'll be flying into ...     t5_2qh1q   \n",
       "1  Hi, I am looking to invest a part of my monthl...     t5_2qh1q   \n",
       "2  After Aquaman's success, I saw Indians on Twit...     t5_2qh1q   \n",
       "3                                       Any stories?     t5_2qh1q   \n",
       "4  Many friends and relatives of mine who have wo...     t5_2qh1q   \n",
       "\n",
       "                                               title  \\\n",
       "0  Question regarding customs when arriving in India   \n",
       "1                         Need Advice about Flexi RD   \n",
       "2  Why do a disproportionate amount Indians have ...   \n",
       "3  How much do you listen to your parents’ advice...   \n",
       "4  A question regarding on-site opportunities (or...   \n",
       "\n",
       "                                                 url  \n",
       "0  https://www.reddit.com/r/india/comments/akaal5...  \n",
       "1  https://www.reddit.com/r/india/comments/akcwld...  \n",
       "2  https://www.reddit.com/r/india/comments/af3mlj...  \n",
       "3  https://www.reddit.com/r/india/comments/afbzhn...  \n",
       "4  https://www.reddit.com/r/india/comments/ad2gkb...  "
      ]
     },
     "execution_count": 4,
     "metadata": {},
     "output_type": "execute_result"
    }
   ],
   "source": [
    "df1.head()"
   ]
  },
  {
   "cell_type": "code",
   "execution_count": 5,
   "metadata": {
    "colab": {},
    "colab_type": "code",
    "id": "Ya86zLGZ90tD"
   },
   "outputs": [],
   "source": [
    "title=df1['title'].tolist()\n",
    "body=df1['selftext'].tolist()\n",
    "url=df1['url'].tolist()\n",
    "y=df1['link_flair_text'].tolist()"
   ]
  },
  {
   "cell_type": "code",
   "execution_count": 6,
   "metadata": {
    "colab": {},
    "colab_type": "code",
    "id": "FxH9dLXO90tJ"
   },
   "outputs": [],
   "source": [
    "\n",
    "def stopwords_removal(tokens):\n",
    "    stop_words = list(stopwords.words(\"english\"))\n",
    "    filtered_sentence = [w for w in tokens if not w in stop_words]              \n",
    "    final=' '.join(filtered_sentence)\n",
    "    return final\n",
    "\n",
    "def remove_punctuation(text):\n",
    "    obj=str.maketrans('', '',string.punctuation)\n",
    "    answer=text.translate(obj)\n",
    "    return answer\n",
    "\n",
    "def simple_lemma(data):\n",
    "    lemmatizer = WordNetLemmatizer()\n",
    "    filtered=[lemmatizer.lemmatize(word) for word in data.split()]\n",
    "    text = ' '.join(filtered)\n",
    "    return text\n",
    "\n",
    "def pre_process(y,flag):\n",
    "    x=deepcopy(y)\n",
    "    for i in range(len(x)):\n",
    "        if x[i]!='nan':\n",
    "            if flag:\n",
    "                x[i]=x[i].split('/')\n",
    "                x[i]=' '.join(x[i])\n",
    "            x[i]=simple_lemma(remove_punctuation(stopwords_removal(word_tokenize(str(x[i]).lower()))))\n",
    "        else:\n",
    "            x[i]=''\n",
    "    return x"
   ]
  },
  {
   "cell_type": "code",
   "execution_count": 7,
   "metadata": {
    "colab": {},
    "colab_type": "code",
    "id": "N9pk9Bbk90tP"
   },
   "outputs": [],
   "source": [
    "c=[0 for _ in range(11)]"
   ]
  },
  {
   "cell_type": "code",
   "execution_count": 8,
   "metadata": {
    "colab": {},
    "colab_type": "code",
    "id": "7TdJ1EW690tU"
   },
   "outputs": [],
   "source": [
    "for i in df1['link_flair_text'].tolist():\n",
    "    c[i]+=1"
   ]
  },
  {
   "cell_type": "code",
   "execution_count": 9,
   "metadata": {
    "colab": {
     "base_uri": "https://localhost:8080/",
     "height": 34
    },
    "colab_type": "code",
    "id": "nGg24j6990tZ",
    "outputId": "030aa6e7-d462-4417-f8a0-b645d8b13142"
   },
   "outputs": [
    {
     "data": {
      "text/plain": [
       "[246, 6026, 1176, 10798, 1169, 1205, 171, 430, 305, 507, 210]"
      ]
     },
     "execution_count": 9,
     "metadata": {},
     "output_type": "execute_result"
    }
   ],
   "source": [
    "c"
   ]
  },
  {
   "cell_type": "code",
   "execution_count": 10,
   "metadata": {
    "colab": {},
    "colab_type": "code",
    "id": "2lDzgXPa90tg"
   },
   "outputs": [],
   "source": [
    "title_clean=pre_process(title,False)\n",
    "body_clean=pre_process(body,False)\n",
    "url_clean=pre_process(url,True)"
   ]
  },
  {
   "cell_type": "code",
   "execution_count": 11,
   "metadata": {
    "colab": {
     "base_uri": "https://localhost:8080/",
     "height": 52
    },
    "colab_type": "code",
    "id": "PAmPKF9z90to",
    "outputId": "8a24ca88-5052-49ca-cdc8-f6212722ee11"
   },
   "outputs": [
    {
     "data": {
      "text/plain": [
       "('Question regarding customs when arriving in India',\n",
       " 'question regarding custom arriving india')"
      ]
     },
     "execution_count": 11,
     "metadata": {},
     "output_type": "execute_result"
    }
   ],
   "source": [
    "title[0],title_clean[0]"
   ]
  },
  {
   "cell_type": "code",
   "execution_count": 12,
   "metadata": {
    "colab": {
     "base_uri": "https://localhost:8080/",
     "height": 72
    },
    "colab_type": "code",
    "id": "mIOBmry990tx",
    "outputId": "9a156954-464e-45e5-aae1-e03ac99b8a01"
   },
   "outputs": [
    {
     "data": {
      "text/plain": [
       "(\"Hello everyone,\\n\\nI've got my first job and its the contract ending with the ending of this month. I'd gone through a real emotional turmoil during those 70+ odd interviews.\\n\\nThough I've made myself content by started to read game of thrones books and most of the time quora and reddit.\\n\\nMy hobbies are acting dramatics and i do like to write stories.\\n\\nAbout you, you should be self motivated about your career and relations. I would not want someone who just like those fake or small talks and then vanish away.\\n\\nIf it turns out good I'd definitely marry. I'm not someone who is just lurking around for sexual favours or something. I appreciate the thoughts and the importance it has while falling for love.\\n\\nso looking forward keep talking in chats and then if you want I can move near you as well. I already have interviews for job opportunities in Germany, sweeden, Netherlands, Singapore and mighty USA. ( Since EU countries allows developers to get there) \\n\\nSo I want to see how much our frequency matches.\\n\\nMy soul purpose of putting this post here to get some feedback on myself. Since I do hangout with people from office have some drinks with them but then I mostly found is they ignore me for even Lunch or tea break times. \\n\\nI have started understanding the whole Football world by following those Premier League, UEFA, LaLiga, that is going on right now thank to reddit. And putting all that effort just so that I can converse and make more friends with people who are deeply involved in Football world. But still its the same people just ignore or forget about me.\\n\\nThe thing which annoys me the most is I can't keep doing small talk for everyday for 2-3 months I want someone reliable to be my friend and keep talking to me, like I have this concept of being best friend you do remember the past talks otherwise its like talking to a vending machine. \\n\\nThe thing that saddens me the most is I see a lot of nay-sayers, shallow, less-knowledgable persons getting awesome jobs and girls but when I see myself that I'm doing all those work and not achieving I feel so much sad and I just look down on myself so much. I'm not some creep or introvert who can't make conversations I do try it and hold the conversation but why god why? Like if you want to talk about cosmetics I would like to talk about what Revelon is doing with their products etc.\\n\\nSo all my fellow Indians here please guide me as I'm feeling so out of life and my path in terms of career and personal life as well. Mom at back home is looking for girls to directly marry me, I'm not saying I don't want to marry but then they control that I can't talk to a girl who is like 4-5 years elder to me so I have a lot of BS to tackle.\\n\\nI'm yet to understand all those financial taxation and how will I invest to have a good savings in coming years I also need to help my dad with that house loan but not much burden is there.\\n\\nWill life be like this all the time in India where you are just moving on roads with crowd hustling for going to job and come back to cook on my own ( that too sometimes backfire and make a messy cooker :D) I got really afraid after I have seen recent interview of Anurag Kashyap saying that in India we are just barely able to survive. I don't want to digest that but I know that's the truth. And even this tech giant metro city I feel all alone every day after coming back from office and after cooking. \\n\\nPS.: I'm not some psycho or sex maniac so please don't troll me over it.\",\n",
       " 'hello everyone ve got first job contract ending ending month d gone real emotional turmoil 70 odd interview though ve made content started read game throne book time quora reddit hobby acting dramatics like write story self motivated career relation would want someone like fake small talk vanish away turn good d definitely marry m someone lurking around sexual favour something appreciate thought importance falling love looking forward keep talking chat want move near well already interview job opportunity germany sweeden netherlands singapore mighty usa since eu country allows developer get want see much frequency match soul purpose putting post get feedback since hangout people office drink mostly found ignore even lunch tea break time started understanding whole football world following premier league uefa laliga going right thank reddit putting effort converse make friend people deeply involved football world still people ignore forget thing annoys ca nt keep small talk everyday 23 month want someone reliable friend keep talking like concept best friend remember past talk otherwise like talking vending machine thing saddens see lot naysayer shallow lessknowledgable person getting awesome job girl see m work achieving feel much sad look much m creep introvert ca nt make conversation try hold conversation god like want talk cosmetic would like talk revelon product etc fellow indian please guide m feeling life path term career personal life well mom back home looking girl directly marry m saying nt want marry control ca nt talk girl like 45 year elder lot b tackle m yet understand financial taxation invest good saving coming year also need help dad house loan much burden life like time india moving road crowd hustling going job come back cook sometimes backfire make messy cooker got really afraid seen recent interview anurag kashyap saying india barely able survive nt want digest know s truth even tech giant metro city feel alone every day coming back office cooking p m psycho sex maniac please nt troll')"
      ]
     },
     "execution_count": 12,
     "metadata": {},
     "output_type": "execute_result"
    }
   ],
   "source": [
    "body[5],body_clean[5]"
   ]
  },
  {
   "cell_type": "code",
   "execution_count": 13,
   "metadata": {
    "colab": {},
    "colab_type": "code",
    "id": "x-J7Uev490t4"
   },
   "outputs": [],
   "source": [
    "ti_bo_ur=[]\n",
    "for i in range(len(title_clean)):\n",
    "    ti_bo_ur.append(title_clean[i]+' '+body_clean[i]+' '+url_clean[i])\n"
   ]
  },
  {
   "cell_type": "code",
   "execution_count": 14,
   "metadata": {
    "colab": {},
    "colab_type": "code",
    "id": "-WOW9KCD90t8"
   },
   "outputs": [
    {
     "data": {
      "text/plain": [
       "TfidfVectorizer(analyzer='word', binary=False, decode_error='strict',\n",
       "        dtype=<class 'numpy.float64'>, encoding='utf-8', input='content',\n",
       "        lowercase=True, max_df=0.7, max_features=10000, min_df=5,\n",
       "        ngram_range=(1, 1), norm='l2', preprocessor=None, smooth_idf=True,\n",
       "        stop_words=['i', 'me', 'my', 'myself', 'we', 'our', 'ours', 'ourselves', 'you', \"you're\", \"you've\", \"you'll\", \"you'd\", 'your', 'yours', 'yourself', 'yourselves', 'he', 'him', 'his', 'himself', 'she', \"she's\", 'her', 'hers', 'herself', 'it', \"it's\", 'its', 'itself', 'they', 'them', 'their', 'theirs',... 'shouldn', \"shouldn't\", 'wasn', \"wasn't\", 'weren', \"weren't\", 'won', \"won't\", 'wouldn', \"wouldn't\"],\n",
       "        strip_accents=None, sublinear_tf=False,\n",
       "        token_pattern='(?u)\\\\b\\\\w\\\\w+\\\\b', tokenizer=None, use_idf=True,\n",
       "        vocabulary=None)"
      ]
     },
     "execution_count": 14,
     "metadata": {},
     "output_type": "execute_result"
    }
   ],
   "source": [
    "tfidf= TfidfVectorizer(max_features=10000, min_df=5, max_df=0.7, stop_words=stopwords.words('english'))  \n",
    "tfidf.fit(ti_bo_ur)"
   ]
  },
  {
   "cell_type": "code",
   "execution_count": 16,
   "metadata": {
    "colab": {},
    "colab_type": "code",
    "id": "oFLESw5W90uB"
   },
   "outputs": [],
   "source": [
    "with open('tfidf','wb') as f:\n",
    "    pickle.dump(tfidf,f)"
   ]
  },
  {
   "cell_type": "code",
   "execution_count": 0,
   "metadata": {
    "colab": {},
    "colab_type": "code",
    "id": "D7hhAT0K90uF"
   },
   "outputs": [],
   "source": []
  },
  {
   "cell_type": "code",
   "execution_count": null,
   "metadata": {
    "colab": {
     "base_uri": "https://localhost:8080/",
     "height": 260
    },
    "colab_type": "code",
    "id": "aHz7w5Lt90uI",
    "outputId": "c5f8ae11-4745-4d5f-87f5-9e3f20f5c27b"
   },
   "outputs": [],
   "source": []
  },
  {
   "cell_type": "code",
   "execution_count": 0,
   "metadata": {
    "colab": {},
    "colab_type": "code",
    "id": "W9ZQSTRS90uQ"
   },
   "outputs": [],
   "source": [
    "def train(classifier,X_train,y_train,X_test,y_test):\n",
    "    classifier.fit(X_train,y_train)\n",
    "    y_train_pred=classifier.predict(X_train)\n",
    "    y_test_pred=classifier.predict(X_test)\n",
    "    return accuracy_score(y_train,y_train_pred),accuracy_score(y_test,y_test_pred)"
   ]
  },
  {
   "cell_type": "code",
   "execution_count": 0,
   "metadata": {
    "colab": {},
    "colab_type": "code",
    "id": "HvdIOXUg90uU"
   },
   "outputs": [],
   "source": [
    "mst=(np.random.rand(len(df1)) < 0.8)"
   ]
  },
  {
   "cell_type": "code",
   "execution_count": 0,
   "metadata": {
    "colab": {},
    "colab_type": "code",
    "id": "fo7XMI5U90ua"
   },
   "outputs": [],
   "source": [
    "\n",
    "def train_test(x):\n",
    "    X_train=[]\n",
    "    X_test=[]\n",
    "    y1_train=[]\n",
    "    y1_test=[]\n",
    "    for i in range(len(mst)):\n",
    "        if mst[i]:\n",
    "            X_train.append(x[i])\n",
    "            y1_train.append(y[i])\n",
    "        else:\n",
    "            X_test.append(x[i])\n",
    "            y1_test.append(y[i])\n",
    "    \n",
    "    X1_train=tfidf.transform(X_train)\n",
    "    X1_test=tfidf.transform(X_test)\n",
    "    \n",
    "    \n",
    "    \n",
    "    clf1=GridSearchCV(SVC(gamma='scale'),{'decision_function_shape':['ovo','ovr'],},cv=5,iid=False)\n",
    "    print(train(clf1,X1_train,y1_train,X1_test,y1_test))\n",
    "\n",
    "    clf2=GridSearchCV(KNeighborsClassifier(),{'n_neighbors':[2,5,7]},cv=5,iid=False)\n",
    "    print(train(clf2,X1_train,y1_train,X1_test,y1_test))\n",
    "\n",
    "    clf3=GridSearchCV(DecisionTreeClassifier(random_state=0),{'criterion':['gini','entropy']},cv=5,iid=False)\n",
    "    print(train(clf3,X1_train,y1_train,X1_test,y1_test))\n",
    "\n",
    "    clf4=GridSearchCV(LogisticRegression(random_state=0),{'solver':['newton-cg', 'lbfgs', 'saga'],'multi_class':['multinomial'],'max_iter':[500,1000,1500]},cv=5,iid=False)\n",
    "    print(train(clf4,X1_train,y1_train,X1_test,y1_test))\n",
    "\n",
    "    clf5=GridSearchCV(RandomForestClassifier(random_state=0),{'n_estimators':[10,50,100,150],'criterion':['gini','entropy']},cv=5,iid=False)\n",
    "    print(train(clf5,X1_train,y1_train,X1_test,y1_test))\n",
    "\n",
    "    clf6=GridSearchCV(xgb.XGBClassifier(objective=\"binary:logistic\", random_state=42),{'max_depth':[2,3],'learning_rate':[0.1,0.15,0.2]},cv=5,iid=False)\n",
    "    print(train(clf6,X1_train,y1_train,X1_test,y1_test))\n",
    "    \n",
    "    "
   ]
  },
  {
   "cell_type": "code",
   "execution_count": 0,
   "metadata": {
    "colab": {
     "base_uri": "https://localhost:8080/",
     "height": 121
    },
    "colab_type": "code",
    "id": "G1wNTvQe90ud",
    "outputId": "2294b891-54bd-4935-988c-3e7b82ecc9a0"
   },
   "outputs": [
    {
     "name": "stdout",
     "output_type": "stream",
     "text": [
      "(0.8776072412436049, 0.6817773788150808)\n",
      "(0.8357227188396019, 0.5179533213644524)\n",
      "(0.98920559959521, 0.656867145421903)\n",
      "(0.7381795693484006, 0.6436265709156194)\n",
      "(0.98920559959521, 0.6833482944344704)\n",
      "(0.6207342441108675, 0.5760771992818672)\n"
     ]
    }
   ],
   "source": [
    "train_test(title_clean)"
   ]
  },
  {
   "cell_type": "code",
   "execution_count": 0,
   "metadata": {
    "colab": {
     "base_uri": "https://localhost:8080/",
     "height": 121
    },
    "colab_type": "code",
    "id": "bUAOsCKm90uj",
    "outputId": "f896af62-7fff-4004-f555-e62c71d54576"
   },
   "outputs": [
    {
     "name": "stdout",
     "output_type": "stream",
     "text": [
      "(0.6872434924382976, 0.6692100538599641)\n",
      "(0.6033620059594086, 0.566427289048474)\n",
      "(0.7042784055771069, 0.6627019748653501)\n",
      "(0.6783606004385225, 0.6701077199281867)\n",
      "(0.7042784055771069, 0.6665170556552962)\n",
      "(0.6693652667678641, 0.6622531418312387)\n"
     ]
    }
   ],
   "source": [
    "train_test(url_clean)"
   ]
  },
  {
   "cell_type": "code",
   "execution_count": 0,
   "metadata": {
    "colab": {
     "base_uri": "https://localhost:8080/",
     "height": 121
    },
    "colab_type": "code",
    "id": "0lrJg2Cs90ur",
    "outputId": "40597de1-8f63-401e-d478-030eefba897a"
   },
   "outputs": [
    {
     "name": "stdout",
     "output_type": "stream",
     "text": [
      "(0.5790746050486311, 0.5558797127468582)\n",
      "(0.5330297408219486, 0.4865350089766607)\n",
      "(0.6143812897059651, 0.5605924596050269)\n",
      "(0.551638837353123, 0.5570017953321365)\n",
      "(0.6087029853263619, 0.5540843806104129)\n",
      "(0.5677742171248664, 0.5637342908438061)\n"
     ]
    }
   ],
   "source": [
    "train_test(body_clean)"
   ]
  },
  {
   "cell_type": "code",
   "execution_count": 0,
   "metadata": {
    "colab": {
     "base_uri": "https://localhost:8080/",
     "height": 121
    },
    "colab_type": "code",
    "id": "XaeRSJVx90uy",
    "outputId": "d44994a3-3ec5-496b-9b9a-bdd86b34e130"
   },
   "outputs": [
    {
     "name": "stdout",
     "output_type": "stream",
     "text": [
      "(0.891887333445775, 0.7051166965888689)\n",
      "(0.9362455726092089, 0.6232046678635548)\n",
      "(0.9931972789115646, 0.6811041292639138)\n",
      "(0.7517287906898297, 0.6710053859964094)\n",
      "(0.9931972789115646, 0.703770197486535)\n",
      "(0.6760555461854163, 0.6422800718132855)\n"
     ]
    }
   ],
   "source": [
    "ti_bo=[]\n",
    "for i in range(len(title_clean)):\n",
    "    ti_bo.append(title_clean[i]+\" \"+body_clean[i])\n",
    "train_test(ti_bo)"
   ]
  },
  {
   "cell_type": "code",
   "execution_count": 0,
   "metadata": {
    "colab": {
     "base_uri": "https://localhost:8080/",
     "height": 104
    },
    "colab_type": "code",
    "id": "BQ7VGvUH90u1",
    "outputId": "3ca8282a-785e-4004-c5db-7173a4762132"
   },
   "outputs": [
    {
     "name": "stdout",
     "output_type": "stream",
     "text": [
      "(0.9054106873638953, 0.7369635440701431)\n",
      "(0.7248869283600424, 0.6582833410244577)\n",
      "(0.9956446479423754, 0.7041993539455469)\n",
      "(0.7849126137696131, 0.7208121827411168)\n",
      "(0.9956446479423754, 0.7408860175357638)\n"
     ]
    }
   ],
   "source": [
    "train_test(ti_bo_ur)"
   ]
  },
  {
   "cell_type": "code",
   "execution_count": 0,
   "metadata": {
    "colab": {
     "base_uri": "https://localhost:8080/",
     "height": 34
    },
    "colab_type": "code",
    "id": "8_miwxgf1BRL",
    "outputId": "e254aba4-0b58-4bcc-8490-2c43106f5525"
   },
   "outputs": [
    {
     "name": "stdout",
     "output_type": "stream",
     "text": [
      "(0.7321903468567872, 0.6921225382932167)\n"
     ]
    }
   ],
   "source": [
    "train_test(ti_bo_ur)"
   ]
  },
  {
   "cell_type": "code",
   "execution_count": 21,
   "metadata": {
    "colab": {
     "base_uri": "https://localhost:8080/",
     "height": 121
    },
    "colab_type": "code",
    "id": "CC3Bb5bi1Bnc",
    "outputId": "fc191888-cda7-4315-dfe1-c283a81e2292"
   },
   "outputs": [
    {
     "name": "stdout",
     "output_type": "stream",
     "text": [
      "(0.7303796752107735, 0.6719912472647702)\n",
      "(0.6387710066202682, 0.6041575492341357)\n",
      "(0.7817008996774741, 0.662144420131291)\n",
      "(0.691506818310417, 0.6704595185995623)\n",
      "(0.7817008996774741, 0.6665207877461706)\n",
      "(0.679001867255135, 0.6645514223194748)\n"
     ]
    }
   ],
   "source": [
    "bo_ur=[]\n",
    "for i in range(len(body_clean)):\n",
    "  bo_ur.append(body_clean[i]+' '+url_clean[i])\n",
    "train_test(bo_ur)"
   ]
  },
  {
   "cell_type": "code",
   "execution_count": 22,
   "metadata": {
    "colab": {
     "base_uri": "https://localhost:8080/",
     "height": 121
    },
    "colab_type": "code",
    "id": "KDOsTT79Fkes",
    "outputId": "7a3e3ee4-4ce2-4556-abce-ee4682d894ee"
   },
   "outputs": [
    {
     "name": "stdout",
     "output_type": "stream",
     "text": [
      "(0.8918689526396197, 0.724945295404814)\n",
      "(0.7191195609121258, 0.6185995623632385)\n",
      "(0.9935494822610762, 0.7094091903719912)\n",
      "(0.7805126464097776, 0.7089715536105032)\n",
      "(0.9935494822610762, 0.7354485776805252)\n",
      "(0.7222882362926498, 0.6833698030634573)\n"
     ]
    }
   ],
   "source": [
    "ti_ur=[]\n",
    "for i in range(len(title_clean)):\n",
    "  ti_ur.append(title_clean[i]+' '+url_clean[i])\n",
    "train_test(ti_ur)"
   ]
  },
  {
   "cell_type": "code",
   "execution_count": 17,
   "metadata": {
    "colab": {},
    "colab_type": "code",
    "id": "_c4_XwOB90u-"
   },
   "outputs": [],
   "source": [
    "clf=GridSearchCV(RandomForestClassifier(random_state=0),{'n_estimators':[10,50,100,150],'criterion':['gini','entropy']},cv=5,iid=False)"
   ]
  },
  {
   "cell_type": "code",
   "execution_count": 18,
   "metadata": {
    "colab": {},
    "colab_type": "code",
    "id": "GanxEzHN90vC"
   },
   "outputs": [],
   "source": [
    "X = tfidf.transform(ti_bo_ur).toarray()  \n"
   ]
  },
  {
   "cell_type": "code",
   "execution_count": 19,
   "metadata": {
    "colab": {},
    "colab_type": "code",
    "id": "8vOuv1cZ90vH",
    "outputId": "4c1530f5-0d3f-4cb9-bbfc-f31d7f931a5e"
   },
   "outputs": [
    {
     "data": {
      "text/plain": [
       "GridSearchCV(cv=5, error_score='raise-deprecating',\n",
       "       estimator=RandomForestClassifier(bootstrap=True, class_weight=None, criterion='gini',\n",
       "            max_depth=None, max_features='auto', max_leaf_nodes=None,\n",
       "            min_impurity_decrease=0.0, min_impurity_split=None,\n",
       "            min_samples_leaf=1, min_samples_split=2,\n",
       "            min_weight_fraction_leaf=0.0, n_estimators='warn', n_jobs=None,\n",
       "            oob_score=False, random_state=0, verbose=0, warm_start=False),\n",
       "       fit_params=None, iid=False, n_jobs=None,\n",
       "       param_grid={'n_estimators': [10, 50, 100, 150], 'criterion': ['gini', 'entropy']},\n",
       "       pre_dispatch='2*n_jobs', refit=True, return_train_score='warn',\n",
       "       scoring=None, verbose=0)"
      ]
     },
     "execution_count": 19,
     "metadata": {},
     "output_type": "execute_result"
    }
   ],
   "source": [
    "clf.fit(X,y)"
   ]
  },
  {
   "cell_type": "code",
   "execution_count": 20,
   "metadata": {
    "colab": {},
    "colab_type": "code",
    "id": "kigssIIz90vQ",
    "outputId": "8e111e1d-8700-4dbf-b4cb-42bd09a4e09b"
   },
   "outputs": [
    {
     "name": "stdout",
     "output_type": "stream",
     "text": [
      "0.9956840354268759\n"
     ]
    }
   ],
   "source": [
    "y_pred=clf.predict(X)\n",
    "print(accuracy_score(y,y_pred))"
   ]
  },
  {
   "cell_type": "code",
   "execution_count": 21,
   "metadata": {
    "colab": {},
    "colab_type": "code",
    "id": "tLPA0Tza90vW",
    "outputId": "afc23aa6-faf3-487a-e632-d9977fd27bdb"
   },
   "outputs": [
    {
     "data": {
      "text/plain": [
       "['model.joblib']"
      ]
     },
     "execution_count": 21,
     "metadata": {},
     "output_type": "execute_result"
    }
   ],
   "source": [
    "joblib.dump(clf, 'model.joblib')"
   ]
  },
  {
   "cell_type": "code",
   "execution_count": 0,
   "metadata": {
    "colab": {},
    "colab_type": "code",
    "id": "9MAKuP5990vb"
   },
   "outputs": [],
   "source": [
    "pd.DataFrame(ti_bo_ur,columns=['text']).to_csv('data_cleaned.csv',index=False)"
   ]
  },
  {
   "cell_type": "code",
   "execution_count": 0,
   "metadata": {
    "colab": {},
    "colab_type": "code",
    "id": "31XxgfED90vf"
   },
   "outputs": [],
   "source": []
  },
  {
   "cell_type": "code",
   "execution_count": 0,
   "metadata": {
    "colab": {},
    "colab_type": "code",
    "id": "M-9jkInR90vh"
   },
   "outputs": [],
   "source": []
  },
  {
   "cell_type": "code",
   "execution_count": 0,
   "metadata": {
    "colab": {},
    "colab_type": "code",
    "id": "D-c3Zq_890vk"
   },
   "outputs": [],
   "source": []
  },
  {
   "cell_type": "code",
   "execution_count": 0,
   "metadata": {
    "colab": {},
    "colab_type": "code",
    "id": "tIHUdEwX90vp"
   },
   "outputs": [],
   "source": []
  },
  {
   "cell_type": "code",
   "execution_count": 0,
   "metadata": {
    "colab": {},
    "colab_type": "code",
    "id": "4w1kPGQN90vq"
   },
   "outputs": [],
   "source": []
  }
 ],
 "metadata": {
  "colab": {
   "name": "Model.ipynb",
   "provenance": [],
   "version": "0.3.2"
  },
  "kernelspec": {
   "display_name": "Python 3",
   "language": "python",
   "name": "python3"
  },
  "language_info": {
   "codemirror_mode": {
    "name": "ipython",
    "version": 3
   },
   "file_extension": ".py",
   "mimetype": "text/x-python",
   "name": "python",
   "nbconvert_exporter": "python",
   "pygments_lexer": "ipython3",
   "version": "3.7.3"
  }
 },
 "nbformat": 4,
 "nbformat_minor": 1
}
