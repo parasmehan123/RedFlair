{
 "cells": [
  {
   "cell_type": "code",
   "execution_count": 1,
   "metadata": {
    "colab": {
     "base_uri": "https://localhost:8080/",
     "height": 34
    },
    "colab_type": "code",
    "id": "XTYFHeFM0UmK",
    "outputId": "ef5453b8-12f6-4fba-97f3-f6ab41a7de9d"
   },
   "outputs": [
    {
     "name": "stdout",
     "output_type": "stream",
     "text": [
      "Hello World\n"
     ]
    }
   ],
   "source": [
    "print(\"Hello World\")"
   ]
  },
  {
   "cell_type": "code",
   "execution_count": 2,
   "metadata": {
    "colab": {
     "base_uri": "https://localhost:8080/",
     "height": 176
    },
    "colab_type": "code",
    "id": "aKDsitov90sg",
    "outputId": "0fe8dbc1-9695-4d59-85cc-e95193bc9dc9"
   },
   "outputs": [
    {
     "name": "stderr",
     "output_type": "stream",
     "text": [
      "[nltk_data] Downloading package punkt to\n",
      "[nltk_data]     /home/parasmehan123/nltk_data...\n",
      "[nltk_data]   Package punkt is already up-to-date!\n",
      "[nltk_data] Downloading package stopwords to\n",
      "[nltk_data]     /home/parasmehan123/nltk_data...\n",
      "[nltk_data]   Package stopwords is already up-to-date!\n",
      "[nltk_data] Downloading package wordnet to\n",
      "[nltk_data]     /home/parasmehan123/nltk_data...\n",
      "[nltk_data]   Package wordnet is already up-to-date!\n"
     ]
    }
   ],
   "source": [
    "import pandas as pd\n",
    "import numpy as np\n",
    "import re\n",
    "from nltk.tokenize import word_tokenize\n",
    "import nltk\n",
    "nltk.download('punkt')\n",
    "from nltk.corpus import stopwords \n",
    "nltk.download('stopwords')\n",
    "import string\n",
    "string.punctuation\n",
    "from nltk.stem import WordNetLemmatizer\n",
    "nltk.download('wordnet')\n",
    "from copy import deepcopy as dp\n",
    "from sklearn.feature_extraction.text import TfidfVectorizer\n",
    "from nltk.corpus import stopwords  \n",
    "from sklearn.ensemble import RandomForestClassifier\n",
    "from sklearn.svm import SVC\n",
    "from sklearn.metrics import accuracy_score\n",
    "from sklearn.tree import DecisionTreeClassifier\n",
    "from sklearn.discriminant_analysis import LinearDiscriminantAnalysis\n",
    "from sklearn.linear_model import LogisticRegression\n",
    "from sklearn.externals import joblib\n",
    "import xgboost as xgb\n",
    "from sklearn.model_selection import GridSearchCV,train_test_split\n",
    "import gensim\n",
    "from gensim.models import Word2Vec\n",
    "from copy import deepcopy\n",
    "import multiprocessing\n",
    "from time import time\n",
    "import pickle"
   ]
  },
  {
   "cell_type": "code",
   "execution_count": 3,
   "metadata": {
    "colab": {},
    "colab_type": "code",
    "id": "K4jxlmLv90sz"
   },
   "outputs": [],
   "source": [
    "df1=pd.read_csv('data_train.csv')\n",
    "df1_test=pd.read_csv('data_test.csv')"
   ]
  },
  {
   "cell_type": "code",
   "execution_count": 4,
   "metadata": {},
   "outputs": [
    {
     "data": {
      "text/plain": [
       "(3996, 998)"
      ]
     },
     "execution_count": 4,
     "metadata": {},
     "output_type": "execute_result"
    }
   ],
   "source": [
    "len(df1),len(df1_test)"
   ]
  },
  {
   "cell_type": "code",
   "execution_count": 5,
   "metadata": {
    "colab": {
     "base_uri": "https://localhost:8080/",
     "height": 397
    },
    "colab_type": "code",
    "id": "EX780fQx90s6",
    "outputId": "6b30cf85-fb9e-48c6-8a98-7d1cb2faac1f"
   },
   "outputs": [
    {
     "data": {
      "text/html": [
       "<div>\n",
       "<style scoped>\n",
       "    .dataframe tbody tr th:only-of-type {\n",
       "        vertical-align: middle;\n",
       "    }\n",
       "\n",
       "    .dataframe tbody tr th {\n",
       "        vertical-align: top;\n",
       "    }\n",
       "\n",
       "    .dataframe thead th {\n",
       "        text-align: right;\n",
       "    }\n",
       "</style>\n",
       "<table border=\"1\" class=\"dataframe\">\n",
       "  <thead>\n",
       "    <tr style=\"text-align: right;\">\n",
       "      <th></th>\n",
       "      <th>created_utc</th>\n",
       "      <th>link_flair_text</th>\n",
       "      <th>num_comments</th>\n",
       "      <th>score</th>\n",
       "      <th>selftext</th>\n",
       "      <th>subreddit_id</th>\n",
       "      <th>title</th>\n",
       "      <th>url</th>\n",
       "    </tr>\n",
       "  </thead>\n",
       "  <tbody>\n",
       "    <tr>\n",
       "      <th>0</th>\n",
       "      <td>1.549555e+09</td>\n",
       "      <td>3</td>\n",
       "      <td>13</td>\n",
       "      <td>14</td>\n",
       "      <td>So many scammers and beggers are ruining my tr...</td>\n",
       "      <td>t5_2qh1q</td>\n",
       "      <td>Why are there so many scammers in Delhi?</td>\n",
       "      <td>https://www.reddit.com/r/india/comments/ao52x6...</td>\n",
       "    </tr>\n",
       "    <tr>\n",
       "      <th>1</th>\n",
       "      <td>1.550414e+09</td>\n",
       "      <td>3</td>\n",
       "      <td>15</td>\n",
       "      <td>1</td>\n",
       "      <td>[deleted]</td>\n",
       "      <td>t5_2qh1q</td>\n",
       "      <td>Anyone ever feel guilty for not joining army, ...</td>\n",
       "      <td>https://www.reddit.com/r/india/comments/arkzxx...</td>\n",
       "    </tr>\n",
       "    <tr>\n",
       "      <th>2</th>\n",
       "      <td>1.552500e+09</td>\n",
       "      <td>3</td>\n",
       "      <td>8</td>\n",
       "      <td>6</td>\n",
       "      <td>Not very knowledgeable in this area, hence wan...</td>\n",
       "      <td>t5_2qh1q</td>\n",
       "      <td>Motorcycle helmet brands, Do any of them offer...</td>\n",
       "      <td>https://www.reddit.com/r/india/comments/b0p5ew...</td>\n",
       "    </tr>\n",
       "    <tr>\n",
       "      <th>3</th>\n",
       "      <td>1.548475e+09</td>\n",
       "      <td>3</td>\n",
       "      <td>20</td>\n",
       "      <td>8</td>\n",
       "      <td>[deleted]</td>\n",
       "      <td>t5_2qh1q</td>\n",
       "      <td>Randians, how are you navigating the dating wo...</td>\n",
       "      <td>https://www.reddit.com/r/india/comments/ajxhgx...</td>\n",
       "    </tr>\n",
       "    <tr>\n",
       "      <th>4</th>\n",
       "      <td>1.549576e+09</td>\n",
       "      <td>3</td>\n",
       "      <td>66</td>\n",
       "      <td>34</td>\n",
       "      <td>Do your schools teach this or do people just n...</td>\n",
       "      <td>t5_2qh1q</td>\n",
       "      <td>Why are you guys so fluent in English?</td>\n",
       "      <td>https://www.reddit.com/r/india/comments/ao913e...</td>\n",
       "    </tr>\n",
       "  </tbody>\n",
       "</table>\n",
       "</div>"
      ],
      "text/plain": [
       "    created_utc  link_flair_text  num_comments  score  \\\n",
       "0  1.549555e+09                3            13     14   \n",
       "1  1.550414e+09                3            15      1   \n",
       "2  1.552500e+09                3             8      6   \n",
       "3  1.548475e+09                3            20      8   \n",
       "4  1.549576e+09                3            66     34   \n",
       "\n",
       "                                            selftext subreddit_id  \\\n",
       "0  So many scammers and beggers are ruining my tr...     t5_2qh1q   \n",
       "1                                          [deleted]     t5_2qh1q   \n",
       "2  Not very knowledgeable in this area, hence wan...     t5_2qh1q   \n",
       "3                                          [deleted]     t5_2qh1q   \n",
       "4  Do your schools teach this or do people just n...     t5_2qh1q   \n",
       "\n",
       "                                               title  \\\n",
       "0           Why are there so many scammers in Delhi?   \n",
       "1  Anyone ever feel guilty for not joining army, ...   \n",
       "2  Motorcycle helmet brands, Do any of them offer...   \n",
       "3  Randians, how are you navigating the dating wo...   \n",
       "4             Why are you guys so fluent in English?   \n",
       "\n",
       "                                                 url  \n",
       "0  https://www.reddit.com/r/india/comments/ao52x6...  \n",
       "1  https://www.reddit.com/r/india/comments/arkzxx...  \n",
       "2  https://www.reddit.com/r/india/comments/b0p5ew...  \n",
       "3  https://www.reddit.com/r/india/comments/ajxhgx...  \n",
       "4  https://www.reddit.com/r/india/comments/ao913e...  "
      ]
     },
     "execution_count": 5,
     "metadata": {},
     "output_type": "execute_result"
    }
   ],
   "source": [
    "df1.head()"
   ]
  },
  {
   "cell_type": "code",
   "execution_count": 6,
   "metadata": {
    "colab": {},
    "colab_type": "code",
    "id": "Ya86zLGZ90tD"
   },
   "outputs": [],
   "source": [
    "title=df1['title'].tolist()\n",
    "body=df1['selftext'].tolist()\n",
    "url=df1['url'].tolist()\n",
    "y=df1['link_flair_text'].tolist()\n",
    "title_test=df1_test['title'].tolist()\n",
    "body_test=df1_test['selftext'].tolist()\n",
    "url_test=df1_test['url'].tolist()\n",
    "y_test=df1_test['link_flair_text'].tolist()"
   ]
  },
  {
   "cell_type": "code",
   "execution_count": 7,
   "metadata": {
    "colab": {},
    "colab_type": "code",
    "id": "FxH9dLXO90tJ"
   },
   "outputs": [],
   "source": [
    "\n",
    "def stopwords_removal(tokens):\n",
    "    stop_words = list(stopwords.words(\"english\"))\n",
    "    filtered_sentence = [w for w in tokens if not w in stop_words]              \n",
    "    final=' '.join(filtered_sentence)\n",
    "    return final\n",
    "\n",
    "def remove_punctuation(text):\n",
    "    obj=str.maketrans('', '',string.punctuation)\n",
    "    answer=text.translate(obj)\n",
    "    return answer\n",
    "\n",
    "def simple_lemma(data):\n",
    "    lemmatizer = WordNetLemmatizer()\n",
    "    filtered=[lemmatizer.lemmatize(word) for word in data.split()]\n",
    "    text = ' '.join(filtered)\n",
    "    return text\n",
    "\n",
    "def pre_process(y,flag):\n",
    "    x=deepcopy(y)\n",
    "    for i in range(len(x)):\n",
    "        if str([i])!='nan':\n",
    "            if flag:\n",
    "                x[i]=x[i].split('/')\n",
    "                x[i]=' '.join(x[i])\n",
    "            x[i]=simple_lemma(remove_punctuation(stopwords_removal(word_tokenize(str(x[i]).lower()))))\n",
    "        else:\n",
    "            x[i]=''\n",
    "    return x"
   ]
  },
  {
   "cell_type": "code",
   "execution_count": 8,
   "metadata": {
    "colab": {},
    "colab_type": "code",
    "id": "N9pk9Bbk90tP"
   },
   "outputs": [],
   "source": [
    "c1=[0 for _ in range(11)]\n",
    "c2=[0 for _ in range(11)]"
   ]
  },
  {
   "cell_type": "code",
   "execution_count": 9,
   "metadata": {
    "colab": {},
    "colab_type": "code",
    "id": "7TdJ1EW690tU"
   },
   "outputs": [],
   "source": [
    "for i in df1['link_flair_text'].tolist():\n",
    "    c1[i]+=1\n",
    "for i in df1_test['link_flair_text']:\n",
    "    c2[i]+=1"
   ]
  },
  {
   "cell_type": "code",
   "execution_count": 10,
   "metadata": {},
   "outputs": [
    {
     "data": {
      "text/plain": [
       "([197, 500, 500, 500, 500, 500, 137, 344, 244, 406, 168],\n",
       " [49, 125, 125, 125, 125, 125, 34, 86, 61, 101, 42])"
      ]
     },
     "execution_count": 10,
     "metadata": {},
     "output_type": "execute_result"
    }
   ],
   "source": [
    "c1,c2"
   ]
  },
  {
   "cell_type": "code",
   "execution_count": 11,
   "metadata": {
    "colab": {},
    "colab_type": "code",
    "id": "2lDzgXPa90tg"
   },
   "outputs": [],
   "source": [
    "title_clean=pre_process(title,False)\n",
    "body_clean=pre_process(body,False)\n",
    "url_clean=pre_process(url,True)\n",
    "title_clean_test=pre_process(title_test,False)\n",
    "body_clean_test=pre_process(body_test,False)\n",
    "url_clean_test=pre_process(url_test,True)"
   ]
  },
  {
   "cell_type": "code",
   "execution_count": 12,
   "metadata": {
    "colab": {
     "base_uri": "https://localhost:8080/",
     "height": 52
    },
    "colab_type": "code",
    "id": "PAmPKF9z90to",
    "outputId": "8a24ca88-5052-49ca-cdc8-f6212722ee11"
   },
   "outputs": [
    {
     "data": {
      "text/plain": [
       "('Why are there so many scammers in Delhi?', 'many scammer delhi')"
      ]
     },
     "execution_count": 12,
     "metadata": {},
     "output_type": "execute_result"
    }
   ],
   "source": [
    "title[0],title_clean[0]"
   ]
  },
  {
   "cell_type": "code",
   "execution_count": 13,
   "metadata": {
    "colab": {
     "base_uri": "https://localhost:8080/",
     "height": 72
    },
    "colab_type": "code",
    "id": "mIOBmry990tx",
    "outputId": "9a156954-464e-45e5-aae1-e03ac99b8a01"
   },
   "outputs": [
    {
     "data": {
      "text/plain": [
       "(\"There was a mistake in the novel-based question. We weren't given the choice between Silas Marner and The Invisible Man, but had to write one answer from each. Anybody else had this problem? \",\n",
       " 'mistake novelbased question nt given choice silas marner invisible man write one answer anybody else problem')"
      ]
     },
     "execution_count": 13,
     "metadata": {},
     "output_type": "execute_result"
    }
   ],
   "source": [
    "body[5],body_clean[5]"
   ]
  },
  {
   "cell_type": "code",
   "execution_count": null,
   "metadata": {
    "colab": {},
    "colab_type": "code",
    "id": "x-J7Uev490t4"
   },
   "outputs": [],
   "source": []
  },
  {
   "cell_type": "code",
   "execution_count": null,
   "metadata": {
    "colab": {},
    "colab_type": "code",
    "id": "-WOW9KCD90t8"
   },
   "outputs": [],
   "source": []
  },
  {
   "cell_type": "code",
   "execution_count": null,
   "metadata": {
    "colab": {},
    "colab_type": "code",
    "id": "oFLESw5W90uB"
   },
   "outputs": [],
   "source": []
  },
  {
   "cell_type": "code",
   "execution_count": null,
   "metadata": {
    "colab": {},
    "colab_type": "code",
    "id": "D7hhAT0K90uF"
   },
   "outputs": [],
   "source": []
  },
  {
   "cell_type": "code",
   "execution_count": null,
   "metadata": {
    "colab": {
     "base_uri": "https://localhost:8080/",
     "height": 260
    },
    "colab_type": "code",
    "id": "aHz7w5Lt90uI",
    "outputId": "c5f8ae11-4745-4d5f-87f5-9e3f20f5c27b"
   },
   "outputs": [],
   "source": []
  },
  {
   "cell_type": "code",
   "execution_count": 14,
   "metadata": {
    "colab": {},
    "colab_type": "code",
    "id": "W9ZQSTRS90uQ"
   },
   "outputs": [],
   "source": [
    "def train(classifier,X_train,y_train,X_test,y_test):\n",
    "    classifier.fit(X_train,y_train)\n",
    "    y_train_pred=classifier.predict(X_train)\n",
    "    y_test_pred=classifier.predict(X_test)\n",
    "    return accuracy_score(y_train,y_train_pred),accuracy_score(y_test,y_test_pred)"
   ]
  },
  {
   "cell_type": "code",
   "execution_count": null,
   "metadata": {
    "colab": {},
    "colab_type": "code",
    "id": "HvdIOXUg90uU"
   },
   "outputs": [],
   "source": []
  },
  {
   "cell_type": "code",
   "execution_count": 15,
   "metadata": {
    "colab": {},
    "colab_type": "code",
    "id": "fo7XMI5U90ua"
   },
   "outputs": [],
   "source": [
    "\n",
    "def train_test(X_train,X_test):\n",
    "    tfidf= TfidfVectorizer(max_features=2000, min_df=5, max_df=0.7, stop_words=stopwords.words('english'))  \n",
    "    X1_train=tfidf.fit_transform(X_train)\n",
    "    X1_test=tfidf.transform(X_test)\n",
    "    \n",
    "    clf1=GridSearchCV(SVC(gamma='scale'),{'decision_function_shape':['ovo','ovr'],},cv=5,iid=False)\n",
    "    print(train(clf1,X1_train,y,X1_test,y_test))\n",
    "    \n",
    "    clf2=GridSearchCV(DecisionTreeClassifier(random_state=0),{'criterion':['gini','entropy']},cv=5,iid=False)\n",
    "    print(train(clf2,X1_train,y,X1_test,y_test))\n",
    "\n",
    "    clf3=GridSearchCV(LogisticRegression(random_state=0),{'solver':['newton-cg', 'lbfgs', 'saga'],'multi_class':['multinomial'],'max_iter':[500,1000,1500]},cv=5,iid=False)\n",
    "    print(train(clf3,X1_train,y,X1_test,y_test))\n",
    "\n",
    "    clf4=GridSearchCV(RandomForestClassifier(random_state=0),{'n_estimators':[10,50,100,150],'criterion':['gini','entropy']},cv=5,iid=False)\n",
    "    print(train(clf4,X1_train,y,X1_test,y_test))\n",
    "\n",
    "    clf5=GridSearchCV(xgb.XGBClassifier(objective=\"binary:logistic\", random_state=42),{'max_depth':[2,3],'learning_rate':[0.1,0.15,0.2]},cv=5,iid=False)\n",
    "    print(train(clf5,X1_train,y,X1_test,y_test))\n",
    "    \n",
    "    "
   ]
  },
  {
   "cell_type": "code",
   "execution_count": 16,
   "metadata": {
    "colab": {
     "base_uri": "https://localhost:8080/",
     "height": 121
    },
    "colab_type": "code",
    "id": "G1wNTvQe90ud",
    "outputId": "2294b891-54bd-4935-988c-3e7b82ecc9a0"
   },
   "outputs": [
    {
     "name": "stdout",
     "output_type": "stream",
     "text": [
      "(0.8863863863863863, 0.47695390781563124)\n",
      "(0.9629629629629629, 0.3937875751503006)\n",
      "(0.7114614614614615, 0.46893787575150303)\n",
      "(0.9629629629629629, 0.46392785571142287)\n",
      "(0.6566566566566566, 0.4248496993987976)\n"
     ]
    }
   ],
   "source": [
    "train_test(title_clean,title_clean_test)"
   ]
  },
  {
   "cell_type": "code",
   "execution_count": 17,
   "metadata": {
    "colab": {
     "base_uri": "https://localhost:8080/",
     "height": 121
    },
    "colab_type": "code",
    "id": "bUAOsCKm90uj",
    "outputId": "f896af62-7fff-4004-f555-e62c71d54576"
   },
   "outputs": [
    {
     "name": "stdout",
     "output_type": "stream",
     "text": [
      "(0.4469469469469469, 0.3897795591182365)\n",
      "(0.4727227227227227, 0.3657314629258517)\n",
      "(0.43343343343343343, 0.3817635270541082)\n",
      "(0.4727227227227227, 0.3787575150300601)\n",
      "(0.4291791791791792, 0.36472945891783565)\n"
     ]
    }
   ],
   "source": [
    "train_test(url_clean,url_clean_test)"
   ]
  },
  {
   "cell_type": "code",
   "execution_count": 18,
   "metadata": {
    "colab": {
     "base_uri": "https://localhost:8080/",
     "height": 121
    },
    "colab_type": "code",
    "id": "0lrJg2Cs90ur",
    "outputId": "40597de1-8f63-401e-d478-030eefba897a"
   },
   "outputs": [
    {
     "name": "stdout",
     "output_type": "stream",
     "text": [
      "(0.3228228228228228, 0.23346693386773548)\n",
      "(0.3425925925925926, 0.2154308617234469)\n",
      "(0.2702702702702703, 0.23647294589178355)\n",
      "(0.3425925925925926, 0.23647294589178355)\n",
      "(0.33208208208208206, 0.251503006012024)\n"
     ]
    }
   ],
   "source": [
    "train_test(body_clean,body_clean_test)"
   ]
  },
  {
   "cell_type": "code",
   "execution_count": 21,
   "metadata": {
    "colab": {
     "base_uri": "https://localhost:8080/",
     "height": 121
    },
    "colab_type": "code",
    "id": "XaeRSJVx90uy",
    "outputId": "d44994a3-3ec5-496b-9b9a-bdd86b34e130"
   },
   "outputs": [
    {
     "name": "stdout",
     "output_type": "stream",
     "text": [
      "(0.918918918918919, 0.503006012024048)\n",
      "(0.974974974974975, 0.3807615230460922)\n",
      "(0.7457457457457457, 0.4939879759519038)\n",
      "(0.974974974974975, 0.46893787575150303)\n",
      "(0.705955955955956, 0.47194388777555113)\n"
     ]
    }
   ],
   "source": [
    "ti_bo=[]\n",
    "ti_bo_test=[]\n",
    "for i in range(len(title_clean)):\n",
    "    ti_bo.append(title_clean[i]+\" \"+body_clean[i])\n",
    "for i in range(len(title_clean_test)):\n",
    "    ti_bo_test.append(title_clean_test[i]+' '+body_clean_test[i])\n",
    "train_test(ti_bo,ti_bo_test)\n",
    "# print(len(title_clean),len(title_clean_test),len(body_clean_test))"
   ]
  },
  {
   "cell_type": "code",
   "execution_count": 22,
   "metadata": {
    "colab": {
     "base_uri": "https://localhost:8080/",
     "height": 104
    },
    "colab_type": "code",
    "id": "BQ7VGvUH90u1",
    "outputId": "3ca8282a-785e-4004-c5db-7173a4762132"
   },
   "outputs": [
    {
     "name": "stdout",
     "output_type": "stream",
     "text": [
      "(0.9184184184184184, 0.5531062124248497)\n",
      "(0.9854854854854855, 0.42685370741482964)\n",
      "(0.7482482482482482, 0.5480961923847696)\n",
      "(0.9854854854854855, 0.5320641282565131)\n",
      "(0.6984484484484484, 0.5370741482965932)\n"
     ]
    }
   ],
   "source": [
    "ti_bo_ur=[]\n",
    "for i in range(len(title_clean)):\n",
    "    ti_bo_ur.append(title_clean[i]+' '+body_clean[i]+' '+url_clean[i])\n",
    "ti_bo_ur_test=[]\n",
    "for i in range(len(title_clean_test)):\n",
    "    ti_bo_ur_test.append(title_clean_test[i]+' '+body_clean_test[i]+' '+url_clean_test[i])\n",
    "train_test(ti_bo_ur,ti_bo_ur_test)"
   ]
  },
  {
   "cell_type": "code",
   "execution_count": null,
   "metadata": {
    "colab": {
     "base_uri": "https://localhost:8080/",
     "height": 34
    },
    "colab_type": "code",
    "id": "8_miwxgf1BRL",
    "outputId": "e254aba4-0b58-4bcc-8490-2c43106f5525"
   },
   "outputs": [],
   "source": []
  },
  {
   "cell_type": "code",
   "execution_count": 23,
   "metadata": {
    "colab": {
     "base_uri": "https://localhost:8080/",
     "height": 121
    },
    "colab_type": "code",
    "id": "CC3Bb5bi1Bnc",
    "outputId": "fc191888-cda7-4315-dfe1-c283a81e2292"
   },
   "outputs": [
    {
     "name": "stdout",
     "output_type": "stream",
     "text": [
      "(0.5690690690690691, 0.4198396793587174)\n",
      "(0.6146146146146146, 0.37374749498997994)\n",
      "(0.49424424424424424, 0.4248496993987976)\n",
      "(0.6146146146146146, 0.40480961923847697)\n",
      "(0.5402902902902903, 0.41783567134268534)\n"
     ]
    }
   ],
   "source": [
    "bo_ur=[]\n",
    "for i in range(len(body_clean)):\n",
    "    bo_ur.append(body_clean[i]+' '+url_clean[i])\n",
    "bo_ur_test=[]\n",
    "for i in range(len(body_clean_test)):\n",
    "    bo_ur_test.append(body_clean_test[i]+' '+url_clean_test[i])\n",
    "train_test(bo_ur,bo_ur_test)"
   ]
  },
  {
   "cell_type": "code",
   "execution_count": 24,
   "metadata": {
    "colab": {
     "base_uri": "https://localhost:8080/",
     "height": 121
    },
    "colab_type": "code",
    "id": "KDOsTT79Fkes",
    "outputId": "7a3e3ee4-4ce2-4556-abce-ee4682d894ee"
   },
   "outputs": [
    {
     "name": "stdout",
     "output_type": "stream",
     "text": [
      "(0.8893893893893894, 0.5200400801603207)\n",
      "(0.977977977977978, 0.4308617234468938)\n",
      "(0.7424924924924925, 0.5350701402805611)\n",
      "(0.977977977977978, 0.5260521042084169)\n",
      "(0.6896896896896897, 0.5190380761523046)\n"
     ]
    }
   ],
   "source": [
    "ti_ur=[]\n",
    "for i in range(len(title_clean)):\n",
    "    ti_ur.append(title_clean[i]+' '+url_clean[i])\n",
    "ti_ur_test=[]\n",
    "for i in range(len(title_clean_test)):\n",
    "    ti_ur_test.append(title_clean_test[i]+' '+url_clean_test[i])\n",
    "train_test(ti_ur,ti_ur_test)"
   ]
  },
  {
   "cell_type": "code",
   "execution_count": 31,
   "metadata": {
    "colab": {},
    "colab_type": "code",
    "id": "_c4_XwOB90u-"
   },
   "outputs": [],
   "source": [
    "clf=GridSearchCV(SVC(gamma='scale'),{'decision_function_shape':['ovo','ovr'],},cv=5,iid=False)"
   ]
  },
  {
   "cell_type": "code",
   "execution_count": 32,
   "metadata": {
    "colab": {},
    "colab_type": "code",
    "id": "GanxEzHN90vC"
   },
   "outputs": [],
   "source": [
    "tfidf= TfidfVectorizer(max_features=2000, min_df=5, max_df=0.7, stop_words=stopwords.words('english'))  \n",
    "X = tfidf.fit_transform(ti_bo_ur)  \n",
    "    "
   ]
  },
  {
   "cell_type": "code",
   "execution_count": 33,
   "metadata": {
    "colab": {},
    "colab_type": "code",
    "id": "8vOuv1cZ90vH",
    "outputId": "4c1530f5-0d3f-4cb9-bbfc-f31d7f931a5e"
   },
   "outputs": [
    {
     "data": {
      "text/plain": [
       "GridSearchCV(cv=5, error_score='raise-deprecating',\n",
       "       estimator=SVC(C=1.0, cache_size=200, class_weight=None, coef0=0.0,\n",
       "  decision_function_shape='ovr', degree=3, gamma='scale', kernel='rbf',\n",
       "  max_iter=-1, probability=False, random_state=None, shrinking=True,\n",
       "  tol=0.001, verbose=False),\n",
       "       fit_params=None, iid=False, n_jobs=None,\n",
       "       param_grid={'decision_function_shape': ['ovo', 'ovr']},\n",
       "       pre_dispatch='2*n_jobs', refit=True, return_train_score='warn',\n",
       "       scoring=None, verbose=0)"
      ]
     },
     "execution_count": 33,
     "metadata": {},
     "output_type": "execute_result"
    }
   ],
   "source": [
    "clf.fit(X,y)"
   ]
  },
  {
   "cell_type": "code",
   "execution_count": 34,
   "metadata": {
    "colab": {},
    "colab_type": "code",
    "id": "kigssIIz90vQ",
    "outputId": "8e111e1d-8700-4dbf-b4cb-42bd09a4e09b"
   },
   "outputs": [
    {
     "name": "stdout",
     "output_type": "stream",
     "text": [
      "0.9184184184184184\n"
     ]
    }
   ],
   "source": [
    "y_pred=clf.predict(X)\n",
    "print(accuracy_score(y,y_pred))"
   ]
  },
  {
   "cell_type": "code",
   "execution_count": 35,
   "metadata": {
    "colab": {},
    "colab_type": "code",
    "id": "tLPA0Tza90vW",
    "outputId": "afc23aa6-faf3-487a-e632-d9977fd27bdb"
   },
   "outputs": [],
   "source": [
    "with open('model','wb') as f:\n",
    "    pickle.dump(clf,f)"
   ]
  },
  {
   "cell_type": "code",
   "execution_count": 36,
   "metadata": {
    "colab": {},
    "colab_type": "code",
    "id": "9MAKuP5990vb"
   },
   "outputs": [],
   "source": [
    "with open('tfidf','wb') as f:\n",
    "    pickle.dump(tfidf,f)"
   ]
  },
  {
   "cell_type": "code",
   "execution_count": null,
   "metadata": {
    "colab": {},
    "colab_type": "code",
    "id": "31XxgfED90vf"
   },
   "outputs": [],
   "source": []
  },
  {
   "cell_type": "code",
   "execution_count": null,
   "metadata": {
    "colab": {},
    "colab_type": "code",
    "id": "M-9jkInR90vh"
   },
   "outputs": [],
   "source": []
  },
  {
   "cell_type": "code",
   "execution_count": null,
   "metadata": {
    "colab": {},
    "colab_type": "code",
    "id": "D-c3Zq_890vk"
   },
   "outputs": [],
   "source": []
  },
  {
   "cell_type": "code",
   "execution_count": null,
   "metadata": {
    "colab": {},
    "colab_type": "code",
    "id": "tIHUdEwX90vp"
   },
   "outputs": [],
   "source": []
  },
  {
   "cell_type": "code",
   "execution_count": null,
   "metadata": {
    "colab": {},
    "colab_type": "code",
    "id": "4w1kPGQN90vq"
   },
   "outputs": [],
   "source": []
  }
 ],
 "metadata": {
  "colab": {
   "name": "Model.ipynb",
   "provenance": [],
   "version": "0.3.2"
  },
  "kernelspec": {
   "display_name": "Python 3",
   "language": "python",
   "name": "python3"
  },
  "language_info": {
   "codemirror_mode": {
    "name": "ipython",
    "version": 3
   },
   "file_extension": ".py",
   "mimetype": "text/x-python",
   "name": "python",
   "nbconvert_exporter": "python",
   "pygments_lexer": "ipython3",
   "version": "3.7.3"
  }
 },
 "nbformat": 4,
 "nbformat_minor": 1
}
