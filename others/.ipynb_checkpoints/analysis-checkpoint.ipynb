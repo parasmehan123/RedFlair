{
 "cells": [
  {
   "cell_type": "code",
   "execution_count": 1,
   "metadata": {},
   "outputs": [],
   "source": [
    "import pandas as pd\n",
    "import numpy as np\n",
    "import datetime as dt"
   ]
  },
  {
   "cell_type": "code",
   "execution_count": 2,
   "metadata": {},
   "outputs": [],
   "source": [
    "df=pd.read_csv('data.csv')\n",
    "flair_dict={0:'Political',1:'Non-political',2:'Reddiquette',3:'AskIndia',4:'Science & Technology',5:'Policy & Economy',6:'Finance & Business',7:'Sports and food',8:'Photography',9:'AMA'}"
   ]
  },
  {
   "cell_type": "code",
   "execution_count": 3,
   "metadata": {},
   "outputs": [],
   "source": [
    "def get_date(created):\n",
    "    return dt.datetime.fromtimestamp(created)\n",
    "l=[]\n",
    "for i in df['created']:\n",
    "    l.append(get_date(i))\n",
    "df=df.assign(created=l)"
   ]
  },
  {
   "cell_type": "code",
   "execution_count": 5,
   "metadata": {},
   "outputs": [
    {
     "data": {
      "text/plain": [
       "True"
      ]
     },
     "execution_count": 5,
     "metadata": {},
     "output_type": "execute_result"
    }
   ],
   "source": [
    "c=[0 for _ in range(10)]\n",
    "df_np=df.to_numpy()\n",
    "for i in range(len(df_np)):\n",
    "    c[df_np[i,-1]]+=1\n",
    "sum(c)==len(df_np)\n",
    "    "
   ]
  },
  {
   "cell_type": "code",
   "execution_count": 6,
   "metadata": {},
   "outputs": [],
   "source": [
    "df_list=[]\n",
    "s=c[0]\n",
    "df_list.append(df.iloc[:c[0],:])\n",
    "for i in range(1,10):\n",
    "    df_list.append(df.iloc[s:s+c[i],:])\n",
    "    s+=c[i]"
   ]
  },
  {
   "cell_type": "code",
   "execution_count": 18,
   "metadata": {},
   "outputs": [],
   "source": [
    "ans=pd.DataFrame([[flair_dict[i],np.median(df_list[i]['score']),np.mean(df_list[i]['score']),np.median(df_list[i]['comms_num']),np.mean(df_list[i]['comms_num'])] for i in range(10)],columns=['Flair','Med. Score','Avg. Score','Med. Comments','Avg. Comments'])\n"
   ]
  },
  {
   "cell_type": "code",
   "execution_count": 19,
   "metadata": {},
   "outputs": [
    {
     "data": {
      "text/html": [
       "<div>\n",
       "<style scoped>\n",
       "    .dataframe tbody tr th:only-of-type {\n",
       "        vertical-align: middle;\n",
       "    }\n",
       "\n",
       "    .dataframe tbody tr th {\n",
       "        vertical-align: top;\n",
       "    }\n",
       "\n",
       "    .dataframe thead th {\n",
       "        text-align: right;\n",
       "    }\n",
       "</style>\n",
       "<table border=\"1\" class=\"dataframe\">\n",
       "  <thead>\n",
       "    <tr style=\"text-align: right;\">\n",
       "      <th></th>\n",
       "      <th>Flair</th>\n",
       "      <th>Med. Score</th>\n",
       "      <th>Avg. Score</th>\n",
       "      <th>Med. Comments</th>\n",
       "      <th>Avg. Comments</th>\n",
       "    </tr>\n",
       "  </thead>\n",
       "  <tbody>\n",
       "    <tr>\n",
       "      <th>0</th>\n",
       "      <td>Political</td>\n",
       "      <td>106.0</td>\n",
       "      <td>213.069106</td>\n",
       "      <td>32.5</td>\n",
       "      <td>56.317073</td>\n",
       "    </tr>\n",
       "    <tr>\n",
       "      <th>1</th>\n",
       "      <td>Non-political</td>\n",
       "      <td>8.0</td>\n",
       "      <td>44.292237</td>\n",
       "      <td>7.0</td>\n",
       "      <td>17.904110</td>\n",
       "    </tr>\n",
       "    <tr>\n",
       "      <th>2</th>\n",
       "      <td>Reddiquette</td>\n",
       "      <td>16.5</td>\n",
       "      <td>43.206522</td>\n",
       "      <td>18.5</td>\n",
       "      <td>164.489130</td>\n",
       "    </tr>\n",
       "    <tr>\n",
       "      <th>3</th>\n",
       "      <td>AskIndia</td>\n",
       "      <td>16.0</td>\n",
       "      <td>33.711864</td>\n",
       "      <td>18.0</td>\n",
       "      <td>36.754237</td>\n",
       "    </tr>\n",
       "    <tr>\n",
       "      <th>4</th>\n",
       "      <td>Science &amp; Technology</td>\n",
       "      <td>14.0</td>\n",
       "      <td>52.299401</td>\n",
       "      <td>11.0</td>\n",
       "      <td>32.958084</td>\n",
       "    </tr>\n",
       "    <tr>\n",
       "      <th>5</th>\n",
       "      <td>Policy &amp; Economy</td>\n",
       "      <td>19.0</td>\n",
       "      <td>54.110048</td>\n",
       "      <td>11.0</td>\n",
       "      <td>33.354067</td>\n",
       "    </tr>\n",
       "    <tr>\n",
       "      <th>6</th>\n",
       "      <td>Finance &amp; Business</td>\n",
       "      <td>22.0</td>\n",
       "      <td>72.929825</td>\n",
       "      <td>11.0</td>\n",
       "      <td>34.900585</td>\n",
       "    </tr>\n",
       "    <tr>\n",
       "      <th>7</th>\n",
       "      <td>Sports and food</td>\n",
       "      <td>54.0</td>\n",
       "      <td>85.282609</td>\n",
       "      <td>33.0</td>\n",
       "      <td>59.586957</td>\n",
       "    </tr>\n",
       "    <tr>\n",
       "      <th>8</th>\n",
       "      <td>Photography</td>\n",
       "      <td>16.0</td>\n",
       "      <td>76.363229</td>\n",
       "      <td>10.0</td>\n",
       "      <td>24.318386</td>\n",
       "    </tr>\n",
       "    <tr>\n",
       "      <th>9</th>\n",
       "      <td>AMA</td>\n",
       "      <td>76.0</td>\n",
       "      <td>147.614286</td>\n",
       "      <td>49.0</td>\n",
       "      <td>89.980952</td>\n",
       "    </tr>\n",
       "  </tbody>\n",
       "</table>\n",
       "</div>"
      ],
      "text/plain": [
       "                  Flair  Med. Score  Avg. Score  Med. Comments  Avg. Comments\n",
       "0             Political       106.0  213.069106           32.5      56.317073\n",
       "1         Non-political         8.0   44.292237            7.0      17.904110\n",
       "2           Reddiquette        16.5   43.206522           18.5     164.489130\n",
       "3              AskIndia        16.0   33.711864           18.0      36.754237\n",
       "4  Science & Technology        14.0   52.299401           11.0      32.958084\n",
       "5      Policy & Economy        19.0   54.110048           11.0      33.354067\n",
       "6    Finance & Business        22.0   72.929825           11.0      34.900585\n",
       "7       Sports and food        54.0   85.282609           33.0      59.586957\n",
       "8           Photography        16.0   76.363229           10.0      24.318386\n",
       "9                   AMA        76.0  147.614286           49.0      89.980952"
      ]
     },
     "execution_count": 19,
     "metadata": {},
     "output_type": "execute_result"
    }
   ],
   "source": [
    "ans"
   ]
  },
  {
   "cell_type": "code",
   "execution_count": null,
   "metadata": {},
   "outputs": [],
   "source": []
  },
  {
   "cell_type": "code",
   "execution_count": null,
   "metadata": {},
   "outputs": [],
   "source": []
  },
  {
   "cell_type": "code",
   "execution_count": 23,
   "metadata": {},
   "outputs": [],
   "source": [
    "ti=[[0 for _ in range(4)] for _ in range(10)]\n",
    "for i in range(10):\n",
    "    for j in df_list[i]['created']:\n",
    "        ti[i][j.hour//6]+=1\n",
    "    for j in range(4):\n",
    "        ti[i][j]=(ti[i][j]*100)/c[i]\n",
    "ti_T=np.array(ti).T"
   ]
  },
  {
   "cell_type": "code",
   "execution_count": 24,
   "metadata": {},
   "outputs": [],
   "source": [
    "fl_vs_hr=pd.DataFrame([flair_dict[i] for i in range(10)],columns=['Flair'])"
   ]
  },
  {
   "cell_type": "code",
   "execution_count": 25,
   "metadata": {},
   "outputs": [],
   "source": [
    "for i in range(4):\n",
    "    fl_vs_hr.insert(i+1,str(6*i)+'-'+str(6*(i+1)),ti_T[i])"
   ]
  },
  {
   "cell_type": "code",
   "execution_count": 26,
   "metadata": {},
   "outputs": [
    {
     "data": {
      "text/html": [
       "<div>\n",
       "<style scoped>\n",
       "    .dataframe tbody tr th:only-of-type {\n",
       "        vertical-align: middle;\n",
       "    }\n",
       "\n",
       "    .dataframe tbody tr th {\n",
       "        vertical-align: top;\n",
       "    }\n",
       "\n",
       "    .dataframe thead th {\n",
       "        text-align: right;\n",
       "    }\n",
       "</style>\n",
       "<table border=\"1\" class=\"dataframe\">\n",
       "  <thead>\n",
       "    <tr style=\"text-align: right;\">\n",
       "      <th></th>\n",
       "      <th>Flair</th>\n",
       "      <th>0-6</th>\n",
       "      <th>6-12</th>\n",
       "      <th>12-18</th>\n",
       "      <th>18-24</th>\n",
       "    </tr>\n",
       "  </thead>\n",
       "  <tbody>\n",
       "    <tr>\n",
       "      <th>0</th>\n",
       "      <td>Political</td>\n",
       "      <td>28.861789</td>\n",
       "      <td>14.634146</td>\n",
       "      <td>20.731707</td>\n",
       "      <td>35.772358</td>\n",
       "    </tr>\n",
       "    <tr>\n",
       "      <th>1</th>\n",
       "      <td>Non-political</td>\n",
       "      <td>20.091324</td>\n",
       "      <td>26.940639</td>\n",
       "      <td>15.981735</td>\n",
       "      <td>36.986301</td>\n",
       "    </tr>\n",
       "    <tr>\n",
       "      <th>2</th>\n",
       "      <td>Reddiquette</td>\n",
       "      <td>30.434783</td>\n",
       "      <td>16.304348</td>\n",
       "      <td>20.652174</td>\n",
       "      <td>32.608696</td>\n",
       "    </tr>\n",
       "    <tr>\n",
       "      <th>3</th>\n",
       "      <td>AskIndia</td>\n",
       "      <td>34.745763</td>\n",
       "      <td>18.220339</td>\n",
       "      <td>13.135593</td>\n",
       "      <td>33.898305</td>\n",
       "    </tr>\n",
       "    <tr>\n",
       "      <th>4</th>\n",
       "      <td>Science &amp; Technology</td>\n",
       "      <td>32.934132</td>\n",
       "      <td>21.556886</td>\n",
       "      <td>11.976048</td>\n",
       "      <td>33.532934</td>\n",
       "    </tr>\n",
       "    <tr>\n",
       "      <th>5</th>\n",
       "      <td>Policy &amp; Economy</td>\n",
       "      <td>28.229665</td>\n",
       "      <td>17.224880</td>\n",
       "      <td>14.354067</td>\n",
       "      <td>40.191388</td>\n",
       "    </tr>\n",
       "    <tr>\n",
       "      <th>6</th>\n",
       "      <td>Finance &amp; Business</td>\n",
       "      <td>26.315789</td>\n",
       "      <td>8.187135</td>\n",
       "      <td>21.637427</td>\n",
       "      <td>43.859649</td>\n",
       "    </tr>\n",
       "    <tr>\n",
       "      <th>7</th>\n",
       "      <td>Sports and food</td>\n",
       "      <td>41.304348</td>\n",
       "      <td>13.043478</td>\n",
       "      <td>17.391304</td>\n",
       "      <td>28.260870</td>\n",
       "    </tr>\n",
       "    <tr>\n",
       "      <th>8</th>\n",
       "      <td>Photography</td>\n",
       "      <td>34.977578</td>\n",
       "      <td>23.318386</td>\n",
       "      <td>12.107623</td>\n",
       "      <td>29.596413</td>\n",
       "    </tr>\n",
       "    <tr>\n",
       "      <th>9</th>\n",
       "      <td>AMA</td>\n",
       "      <td>45.238095</td>\n",
       "      <td>13.809524</td>\n",
       "      <td>10.000000</td>\n",
       "      <td>30.952381</td>\n",
       "    </tr>\n",
       "  </tbody>\n",
       "</table>\n",
       "</div>"
      ],
      "text/plain": [
       "                  Flair        0-6       6-12      12-18      18-24\n",
       "0             Political  28.861789  14.634146  20.731707  35.772358\n",
       "1         Non-political  20.091324  26.940639  15.981735  36.986301\n",
       "2           Reddiquette  30.434783  16.304348  20.652174  32.608696\n",
       "3              AskIndia  34.745763  18.220339  13.135593  33.898305\n",
       "4  Science & Technology  32.934132  21.556886  11.976048  33.532934\n",
       "5      Policy & Economy  28.229665  17.224880  14.354067  40.191388\n",
       "6    Finance & Business  26.315789   8.187135  21.637427  43.859649\n",
       "7       Sports and food  41.304348  13.043478  17.391304  28.260870\n",
       "8           Photography  34.977578  23.318386  12.107623  29.596413\n",
       "9                   AMA  45.238095  13.809524  10.000000  30.952381"
      ]
     },
     "execution_count": 26,
     "metadata": {},
     "output_type": "execute_result"
    }
   ],
   "source": [
    "fl_vs_hr"
   ]
  },
  {
   "cell_type": "code",
   "execution_count": 27,
   "metadata": {},
   "outputs": [],
   "source": [
    "ans.to_csv('analysis1.csv',index=False)\n",
    "fl_vs_hr.to_csv('analysis2.csv',index=False)"
   ]
  },
  {
   "cell_type": "code",
   "execution_count": null,
   "metadata": {},
   "outputs": [],
   "source": []
  },
  {
   "cell_type": "code",
   "execution_count": null,
   "metadata": {},
   "outputs": [],
   "source": []
  },
  {
   "cell_type": "code",
   "execution_count": null,
   "metadata": {},
   "outputs": [],
   "source": []
  },
  {
   "cell_type": "code",
   "execution_count": null,
   "metadata": {},
   "outputs": [],
   "source": []
  },
  {
   "cell_type": "code",
   "execution_count": null,
   "metadata": {},
   "outputs": [],
   "source": []
  },
  {
   "cell_type": "code",
   "execution_count": null,
   "metadata": {},
   "outputs": [],
   "source": []
  },
  {
   "cell_type": "code",
   "execution_count": null,
   "metadata": {},
   "outputs": [],
   "source": []
  },
  {
   "cell_type": "code",
   "execution_count": null,
   "metadata": {},
   "outputs": [],
   "source": []
  },
  {
   "cell_type": "code",
   "execution_count": null,
   "metadata": {},
   "outputs": [],
   "source": []
  },
  {
   "cell_type": "code",
   "execution_count": null,
   "metadata": {},
   "outputs": [],
   "source": []
  },
  {
   "cell_type": "code",
   "execution_count": null,
   "metadata": {},
   "outputs": [],
   "source": []
  }
 ],
 "metadata": {
  "kernelspec": {
   "display_name": "Python 3",
   "language": "python",
   "name": "python3"
  },
  "language_info": {
   "codemirror_mode": {
    "name": "ipython",
    "version": 3
   },
   "file_extension": ".py",
   "mimetype": "text/x-python",
   "name": "python",
   "nbconvert_exporter": "python",
   "pygments_lexer": "ipython3",
   "version": "3.7.3"
  }
 },
 "nbformat": 4,
 "nbformat_minor": 2
}
