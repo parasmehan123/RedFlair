{
 "cells": [
  {
   "cell_type": "code",
   "execution_count": 3,
   "metadata": {},
   "outputs": [],
   "source": [
    "import praw\n",
    "import pandas as pd\n",
    "import datetime as dt\n",
    "import numpy as np"
   ]
  },
  {
   "cell_type": "code",
   "execution_count": 4,
   "metadata": {},
   "outputs": [],
   "source": [
    "reddit=praw.Reddit(client_id='ST0obmq3HAomHQ',client_secret='ECeazJYbpZ5Kx83g6RrWPDyPO0A',user_agent='Precog Project',username='parasmehan123',password='')"
   ]
  },
  {
   "cell_type": "code",
   "execution_count": 5,
   "metadata": {},
   "outputs": [],
   "source": [
    "subreddit = reddit.subreddit('india')"
   ]
  },
  {
   "cell_type": "code",
   "execution_count": 6,
   "metadata": {},
   "outputs": [],
   "source": [
    "flair_dict={0:'Political',1:'Non-political',2:'Reddiquette',3:'AskIndia',4:'Science & Technology',5:'Policy & Economy',6:'Finance & Business',7:'Sports and food',8:'Photography',9:'AMA'}"
   ]
  },
  {
   "cell_type": "code",
   "execution_count": 7,
   "metadata": {},
   "outputs": [
    {
     "data": {
      "text/plain": [
       "1804"
      ]
     },
     "execution_count": 7,
     "metadata": {},
     "output_type": "execute_result"
    }
   ],
   "source": [
    "topics_dict = { \"title\":[],\"score\":[],\"id\":[],\"url\":[],\"comms_num\": [],\"created\": [],\"body\":[],\"flair\":[]}\n",
    "for flair in flair_dict:\n",
    "    for submission in subreddit.search(flair_dict[flair],limit=1000):\n",
    "        topics_dict[\"title\"].append(submission.title)\n",
    "        topics_dict[\"score\"].append(submission.score)\n",
    "        topics_dict[\"id\"].append(submission.id)\n",
    "        topics_dict[\"url\"].append(submission.url)\n",
    "        topics_dict[\"comms_num\"].append(submission.num_comments)\n",
    "        topics_dict[\"created\"].append(submission.created)\n",
    "        topics_dict[\"body\"].append(submission.selftext)\n",
    "        topics_dict[\"flair\"].append(flair)\n",
    "\n",
    "topics_data = pd.DataFrame(topics_dict)\n",
    "#topics_data.to_csv('data.csv',index=False)\n",
    "len(topics_data['title'])"
   ]
  },
  {
   "cell_type": "code",
   "execution_count": 2,
   "metadata": {},
   "outputs": [],
   "source": [
    "df=pd.read_csv('data.csv')"
   ]
  },
  {
   "cell_type": "code",
   "execution_count": 24,
   "metadata": {},
   "outputs": [
    {
     "data": {
      "text/html": [
       "<div>\n",
       "<style scoped>\n",
       "    .dataframe tbody tr th:only-of-type {\n",
       "        vertical-align: middle;\n",
       "    }\n",
       "\n",
       "    .dataframe tbody tr th {\n",
       "        vertical-align: top;\n",
       "    }\n",
       "\n",
       "    .dataframe thead th {\n",
       "        text-align: right;\n",
       "    }\n",
       "</style>\n",
       "<table border=\"1\" class=\"dataframe\">\n",
       "  <thead>\n",
       "    <tr style=\"text-align: right;\">\n",
       "      <th></th>\n",
       "      <th>title</th>\n",
       "      <th>score</th>\n",
       "      <th>id</th>\n",
       "      <th>url</th>\n",
       "      <th>comms_num</th>\n",
       "      <th>created</th>\n",
       "      <th>body</th>\n",
       "      <th>flair</th>\n",
       "    </tr>\n",
       "  </thead>\n",
       "  <tbody>\n",
       "    <tr>\n",
       "      <th>0</th>\n",
       "      <td>Rahul Gandhi resigns as President of Congress</td>\n",
       "      <td>1120</td>\n",
       "      <td>c8lydy</td>\n",
       "      <td>https://www.aninews.in/news/national/general-n...</td>\n",
       "      <td>413</td>\n",
       "      <td>1.562175e+09</td>\n",
       "      <td>NaN</td>\n",
       "      <td>0</td>\n",
       "    </tr>\n",
       "    <tr>\n",
       "      <th>1</th>\n",
       "      <td>Is legalization of marijuana in India ever goi...</td>\n",
       "      <td>81</td>\n",
       "      <td>bvvre5</td>\n",
       "      <td>https://www.reddit.com/r/india/comments/bvvre5...</td>\n",
       "      <td>124</td>\n",
       "      <td>1.559497e+09</td>\n",
       "      <td>As a cannabis enthusiast (stoner, pothead), it...</td>\n",
       "      <td>0</td>\n",
       "    </tr>\n",
       "    <tr>\n",
       "      <th>2</th>\n",
       "      <td>I was searching for something and I stumbled u...</td>\n",
       "      <td>314</td>\n",
       "      <td>cd3xmx</td>\n",
       "      <td>https://i.imgur.com/FefhpHc.jpg</td>\n",
       "      <td>109</td>\n",
       "      <td>1.563145e+09</td>\n",
       "      <td>NaN</td>\n",
       "      <td>0</td>\n",
       "    </tr>\n",
       "    <tr>\n",
       "      <th>3</th>\n",
       "      <td>Emperors of Extraction: The Mughals did not ma...</td>\n",
       "      <td>35</td>\n",
       "      <td>cdargd</td>\n",
       "      <td>https://www.dailyo.in/politics/emperors-of-ext...</td>\n",
       "      <td>7</td>\n",
       "      <td>1.563181e+09</td>\n",
       "      <td>NaN</td>\n",
       "      <td>0</td>\n",
       "    </tr>\n",
       "    <tr>\n",
       "      <th>4</th>\n",
       "      <td>Chennaite here. Is there any way for us to mak...</td>\n",
       "      <td>83</td>\n",
       "      <td>c22c7k</td>\n",
       "      <td>https://www.reddit.com/r/india/comments/c22c7k...</td>\n",
       "      <td>30</td>\n",
       "      <td>1.560894e+09</td>\n",
       "      <td>It's crazy how they aren't even talking about ...</td>\n",
       "      <td>0</td>\n",
       "    </tr>\n",
       "  </tbody>\n",
       "</table>\n",
       "</div>"
      ],
      "text/plain": [
       "                                               title  score      id  \\\n",
       "0      Rahul Gandhi resigns as President of Congress   1120  c8lydy   \n",
       "1  Is legalization of marijuana in India ever goi...     81  bvvre5   \n",
       "2  I was searching for something and I stumbled u...    314  cd3xmx   \n",
       "3  Emperors of Extraction: The Mughals did not ma...     35  cdargd   \n",
       "4  Chennaite here. Is there any way for us to mak...     83  c22c7k   \n",
       "\n",
       "                                                 url  comms_num       created  \\\n",
       "0  https://www.aninews.in/news/national/general-n...        413  1.562175e+09   \n",
       "1  https://www.reddit.com/r/india/comments/bvvre5...        124  1.559497e+09   \n",
       "2                    https://i.imgur.com/FefhpHc.jpg        109  1.563145e+09   \n",
       "3  https://www.dailyo.in/politics/emperors-of-ext...          7  1.563181e+09   \n",
       "4  https://www.reddit.com/r/india/comments/c22c7k...         30  1.560894e+09   \n",
       "\n",
       "                                                body  flair  \n",
       "0                                                NaN      0  \n",
       "1  As a cannabis enthusiast (stoner, pothead), it...      0  \n",
       "2                                                NaN      0  \n",
       "3                                                NaN      0  \n",
       "4  It's crazy how they aren't even talking about ...      0  "
      ]
     },
     "execution_count": 24,
     "metadata": {},
     "output_type": "execute_result"
    }
   ],
   "source": [
    "df.head()"
   ]
  },
  {
   "cell_type": "code",
   "execution_count": null,
   "metadata": {},
   "outputs": [],
   "source": []
  },
  {
   "cell_type": "code",
   "execution_count": null,
   "metadata": {},
   "outputs": [],
   "source": []
  },
  {
   "cell_type": "code",
   "execution_count": null,
   "metadata": {},
   "outputs": [],
   "source": []
  },
  {
   "cell_type": "code",
   "execution_count": null,
   "metadata": {},
   "outputs": [],
   "source": []
  }
 ],
 "metadata": {
  "kernelspec": {
   "display_name": "Python 3",
   "language": "python",
   "name": "python3"
  },
  "language_info": {
   "codemirror_mode": {
    "name": "ipython",
    "version": 3
   },
   "file_extension": ".py",
   "mimetype": "text/x-python",
   "name": "python",
   "nbconvert_exporter": "python",
   "pygments_lexer": "ipython3",
   "version": "3.7.3"
  }
 },
 "nbformat": 4,
 "nbformat_minor": 2
}
